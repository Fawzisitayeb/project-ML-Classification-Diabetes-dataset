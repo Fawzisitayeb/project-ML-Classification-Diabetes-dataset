{
 "cells": [
  {
   "cell_type": "markdown",
   "metadata": {},
   "source": [
    "Diabetes dateset- ML classification\n",
    "***Applied PCA, Used Kmeans to calculate Homogonity and Completeness score, split the dataset, build different models using logistic regression, DNN, Random Forest. Also plotted test prediction curve and accuarcy curve within a given threshold***\n"
   ]
  },
  {
   "cell_type": "markdown",
   "metadata": {},
   "source": [
    "### PCA\n",
    "First we start with PCA. Using PCA, show the importance of each of the PCA dimensions on a bar plot. What is a reasonable number of dimensions in your opinion to obtain at least 95% explained_var_ratio?"
   ]
  },
  {
   "cell_type": "code",
   "execution_count": 1,
   "metadata": {},
   "outputs": [],
   "source": [
    "import pandas as pd\n",
    "import matplotlib.pyplot as plt \n",
    "from sklearn import metrics\n",
    "import numpy as np\n",
    "import seaborn as sns "
   ]
  },
  {
   "cell_type": "code",
   "execution_count": 2,
   "metadata": {},
   "outputs": [],
   "source": [
    "df = pd.read_csv('diabetes.csv')"
   ]
  },
  {
   "cell_type": "code",
   "execution_count": 3,
   "metadata": {},
   "outputs": [
    {
     "data": {
      "text/html": [
       "<div>\n",
       "<style scoped>\n",
       "    .dataframe tbody tr th:only-of-type {\n",
       "        vertical-align: middle;\n",
       "    }\n",
       "\n",
       "    .dataframe tbody tr th {\n",
       "        vertical-align: top;\n",
       "    }\n",
       "\n",
       "    .dataframe thead th {\n",
       "        text-align: right;\n",
       "    }\n",
       "</style>\n",
       "<table border=\"1\" class=\"dataframe\">\n",
       "  <thead>\n",
       "    <tr style=\"text-align: right;\">\n",
       "      <th></th>\n",
       "      <th>Pregnancies</th>\n",
       "      <th>Glucose</th>\n",
       "      <th>BloodPressure</th>\n",
       "      <th>SkinThickness</th>\n",
       "      <th>Insulin</th>\n",
       "      <th>BMI</th>\n",
       "      <th>DiabetesPedigreeFunction</th>\n",
       "      <th>Age</th>\n",
       "      <th>Outcome</th>\n",
       "    </tr>\n",
       "  </thead>\n",
       "  <tbody>\n",
       "    <tr>\n",
       "      <th>0</th>\n",
       "      <td>6</td>\n",
       "      <td>148</td>\n",
       "      <td>72</td>\n",
       "      <td>35</td>\n",
       "      <td>0</td>\n",
       "      <td>33.6</td>\n",
       "      <td>0.627</td>\n",
       "      <td>50</td>\n",
       "      <td>1</td>\n",
       "    </tr>\n",
       "    <tr>\n",
       "      <th>1</th>\n",
       "      <td>1</td>\n",
       "      <td>85</td>\n",
       "      <td>66</td>\n",
       "      <td>29</td>\n",
       "      <td>0</td>\n",
       "      <td>26.6</td>\n",
       "      <td>0.351</td>\n",
       "      <td>31</td>\n",
       "      <td>0</td>\n",
       "    </tr>\n",
       "    <tr>\n",
       "      <th>2</th>\n",
       "      <td>8</td>\n",
       "      <td>183</td>\n",
       "      <td>64</td>\n",
       "      <td>0</td>\n",
       "      <td>0</td>\n",
       "      <td>23.3</td>\n",
       "      <td>0.672</td>\n",
       "      <td>32</td>\n",
       "      <td>1</td>\n",
       "    </tr>\n",
       "    <tr>\n",
       "      <th>3</th>\n",
       "      <td>1</td>\n",
       "      <td>89</td>\n",
       "      <td>66</td>\n",
       "      <td>23</td>\n",
       "      <td>94</td>\n",
       "      <td>28.1</td>\n",
       "      <td>0.167</td>\n",
       "      <td>21</td>\n",
       "      <td>0</td>\n",
       "    </tr>\n",
       "    <tr>\n",
       "      <th>4</th>\n",
       "      <td>0</td>\n",
       "      <td>137</td>\n",
       "      <td>40</td>\n",
       "      <td>35</td>\n",
       "      <td>168</td>\n",
       "      <td>43.1</td>\n",
       "      <td>2.288</td>\n",
       "      <td>33</td>\n",
       "      <td>1</td>\n",
       "    </tr>\n",
       "  </tbody>\n",
       "</table>\n",
       "</div>"
      ],
      "text/plain": [
       "   Pregnancies  Glucose  BloodPressure  SkinThickness  Insulin   BMI  \\\n",
       "0            6      148             72             35        0  33.6   \n",
       "1            1       85             66             29        0  26.6   \n",
       "2            8      183             64              0        0  23.3   \n",
       "3            1       89             66             23       94  28.1   \n",
       "4            0      137             40             35      168  43.1   \n",
       "\n",
       "   DiabetesPedigreeFunction  Age  Outcome  \n",
       "0                     0.627   50        1  \n",
       "1                     0.351   31        0  \n",
       "2                     0.672   32        1  \n",
       "3                     0.167   21        0  \n",
       "4                     2.288   33        1  "
      ]
     },
     "execution_count": 3,
     "metadata": {},
     "output_type": "execute_result"
    }
   ],
   "source": [
    "df.head()"
   ]
  },
  {
   "cell_type": "code",
   "execution_count": 4,
   "metadata": {},
   "outputs": [
    {
     "data": {
      "text/plain": [
       "(768, 9)"
      ]
     },
     "execution_count": 4,
     "metadata": {},
     "output_type": "execute_result"
    }
   ],
   "source": [
    "df.shape"
   ]
  },
  {
   "cell_type": "code",
   "execution_count": 5,
   "metadata": {},
   "outputs": [],
   "source": [
    "from sklearn.decomposition import PCA"
   ]
  },
  {
   "cell_type": "code",
   "execution_count": 6,
   "metadata": {},
   "outputs": [],
   "source": [
    "pca=PCA()\n",
    "reduced_pca=pca.fit_transform(df)"
   ]
  },
  {
   "cell_type": "code",
   "execution_count": 7,
   "metadata": {},
   "outputs": [
    {
     "data": {
      "text/plain": [
       "<BarContainer object of 9 artists>"
      ]
     },
     "execution_count": 7,
     "metadata": {},
     "output_type": "execute_result"
    },
    {
     "data": {
      "image/png": "[encoded data removed]",
      "text/plain": [
       "<Figure size 432x288 with 1 Axes>"
      ]
     },
     "metadata": {
      "needs_background": "light"
     },
     "output_type": "display_data"
    }
   ],
   "source": [
    "reduced_pca\n",
    "reduced_pca.shape\n",
    "pca.explained_variance_ratio_\n",
    "plt.bar(np.arange(0,9), pca.explained_variance_ratio_*100)"
   ]
  },
  {
   "cell_type": "code",
   "execution_count": 8,
   "metadata": {},
   "outputs": [
    {
     "data": {
      "text/plain": [
       "(768, 2)"
      ]
     },
     "execution_count": 8,
     "metadata": {},
     "output_type": "execute_result"
    }
   ],
   "source": [
    "pca=PCA(n_components=0.9)\n",
    "reduced_pca=pca.fit_transform(df)\n",
    "reduced_pca.shape #reduced the number of features to 2"
   ]
  },
  {
   "cell_type": "code",
   "execution_count": 9,
   "metadata": {},
   "outputs": [
    {
     "data": {
      "text/plain": [
       "<BarContainer object of 6 artists>"
      ]
     },
     "execution_count": 9,
     "metadata": {},
     "output_type": "execute_result"
    },
    {
     "data": {
      "image/png": "[encoded data removed]",
      "text/plain": [
       "<Figure size 432x288 with 1 Axes>"
      ]
     },
     "metadata": {
      "needs_background": "light"
     },
     "output_type": "display_data"
    }
   ],
   "source": [
    "pca=PCA(n_components=6)\n",
    "reduced_pca=pca.fit_transform(df)\n",
    "reduced_pca.shape\n",
    "plt.bar(np.arange(0,6), pca.explained_variance_ratio_*100)"
   ]
  },
  {
   "cell_type": "markdown",
   "metadata": {},
   "source": [
    "## KMeans\n",
    "Do clustering using KMeans on the original dataset (not the PCA) using K=2. Calculate Homogonity and Completeness score."
   ]
  },
  {
   "cell_type": "code",
   "execution_count": 10,
   "metadata": {},
   "outputs": [],
   "source": [
    "from sklearn.cluster import KMeans\n",
    "from sklearn.preprocessing import StandardScaler\n",
    "from sklearn.cluster import DBSCAN"
   ]
  },
  {
   "cell_type": "code",
   "execution_count": 11,
   "metadata": {},
   "outputs": [
    {
     "name": "stdout",
     "output_type": "stream",
     "text": [
      "[[  3.7030303  141.46060606  72.78787879  31.2        253.70909091\n",
      "   34.98545455   0.59724848  33.7030303    0.52121212]\n",
      " [  3.88391376 115.26699834  68.09784411  17.6185738   32.21227197\n",
      "   31.17363184   0.43757048  33.11442786   0.30182421]]\n"
     ]
    }
   ],
   "source": [
    "from sklearn.cluster import KMeans\n",
    "X = df.loc[:, df.columns != 'Outcome']\n",
    "y = df['Outcome']\n",
    "\n",
    "kmeans= KMeans(n_clusters=2)\n",
    "kmeans.fit(df)\n",
    "print(kmeans.cluster_centers_)"
   ]
  },
  {
   "cell_type": "code",
   "execution_count": 12,
   "metadata": {},
   "outputs": [],
   "source": [
    "y_pred=kmeans.fit_predict(df)"
   ]
  },
  {
   "cell_type": "code",
   "execution_count": 13,
   "metadata": {},
   "outputs": [
    {
     "name": "stdout",
     "output_type": "stream",
     "text": [
      "Homogeneit is 2.6659254297179364 percent\n"
     ]
    }
   ],
   "source": [
    "print('Homogeneit is',metrics.homogeneity_score(labels_true=y,labels_pred=y_pred)*100,'percent')"
   ]
  },
  {
   "cell_type": "code",
   "execution_count": 14,
   "metadata": {},
   "outputs": [
    {
     "name": "stdout",
     "output_type": "stream",
     "text": [
      "Completeness is 3.31406091804888 percent\n"
     ]
    }
   ],
   "source": [
    "print('Completeness is',metrics.completeness_score(labels_true=y, labels_pred=y_pred)*100,'percent')"
   ]
  },
  {
   "cell_type": "markdown",
   "metadata": {},
   "source": [
    "### Split the data\n",
    "Split the original dataset (not the PCA) to have 30% test data"
   ]
  },
  {
   "cell_type": "code",
   "execution_count": 15,
   "metadata": {},
   "outputs": [],
   "source": [
    "from sklearn.model_selection import train_test_split"
   ]
  },
  {
   "cell_type": "code",
   "execution_count": 16,
   "metadata": {},
   "outputs": [],
   "source": [
    "X= df.drop('Outcome', axis=1)\n",
    "y=df.Outcome"
   ]
  },
  {
   "cell_type": "code",
   "execution_count": 17,
   "metadata": {},
   "outputs": [],
   "source": [
    "X_train, X_test, y_train, y_test = train_test_split( X, y, test_size=0.30,random_state=42)"
   ]
  },
  {
   "cell_type": "markdown",
   "metadata": {},
   "source": [
    "### Logistic Regression\n",
    "Using LR, what is the accuracy, precision and recall and F1 score for the training and the test data? Plot the ROC curve"
   ]
  },
  {
   "cell_type": "code",
   "execution_count": 18,
   "metadata": {},
   "outputs": [],
   "source": [
    "from sklearn.linear_model import LogisticRegression\n",
    "logreg=LogisticRegression()"
   ]
  },
  {
   "cell_type": "code",
   "execution_count": 19,
   "metadata": {},
   "outputs": [
    {
     "name": "stderr",
     "output_type": "stream",
     "text": [
      "C:\\Users\\Pookie\\Anaconda3\\lib\\site-packages\\sklearn\\linear_model\\logistic.py:432: FutureWarning: Default solver will be changed to 'lbfgs' in 0.22. Specify a solver to silence this warning.\n",
      "  FutureWarning)\n"
     ]
    },
    {
     "data": {
      "text/plain": [
       "LogisticRegression(C=1.0, class_weight=None, dual=False, fit_intercept=True,\n",
       "                   intercept_scaling=1, l1_ratio=None, max_iter=100,\n",
       "                   multi_class='warn', n_jobs=None, penalty='l2',\n",
       "                   random_state=None, solver='warn', tol=0.0001, verbose=0,\n",
       "                   warm_start=False)"
      ]
     },
     "execution_count": 19,
     "metadata": {},
     "output_type": "execute_result"
    }
   ],
   "source": [
    "logreg.fit(X_train, y_train)"
   ]
  },
  {
   "cell_type": "code",
   "execution_count": 20,
   "metadata": {},
   "outputs": [
    {
     "name": "stdout",
     "output_type": "stream",
     "text": [
      "Training accuracy is  0.7821229050279329\n",
      "Testing accuracy is  0.7575757575757576\n"
     ]
    }
   ],
   "source": [
    "train_score = logreg.score(X_train, y_train)\n",
    "print('Training accuracy is ', train_score)\n",
    "test_score=logreg.score(X_test, y_test)\n",
    "print('Testing accuracy is ', test_score)"
   ]
  },
  {
   "cell_type": "code",
   "execution_count": 21,
   "metadata": {},
   "outputs": [],
   "source": [
    "pred=logreg.predict(X_test)\n",
    "prob=logreg.predict_proba(X_test)"
   ]
  },
  {
   "cell_type": "code",
   "execution_count": 22,
   "metadata": {},
   "outputs": [
    {
     "name": "stdout",
     "output_type": "stream",
     "text": [
      "[[0.66555474 0.33444526]\n",
      " [0.77634677 0.22365323]\n",
      " [0.80336856 0.19663144]\n",
      " [0.77919294 0.22080706]\n",
      " [0.55104201 0.44895799]\n",
      " [0.57766826 0.42233174]\n",
      " [0.94451754 0.05548246]\n",
      " [0.33756318 0.66243682]\n",
      " [0.4703799  0.5296201 ]\n",
      " [0.32350476 0.67649524]\n",
      " [0.68888925 0.31111075]\n",
      " [0.22204816 0.77795184]\n",
      " [0.534946   0.465054  ]\n",
      " [0.70635853 0.29364147]\n",
      " [0.86599693 0.13400307]\n",
      " [0.59891334 0.40108666]\n",
      " [0.82976388 0.17023612]\n",
      " [0.86602766 0.13397234]\n",
      " [0.12622393 0.87377607]\n",
      " [0.47699437 0.52300563]\n",
      " [0.73656585 0.26343415]\n",
      " [0.88110041 0.11889959]\n",
      " [0.53251735 0.46748265]\n",
      " [0.84272161 0.15727839]\n",
      " [0.47669974 0.52330026]\n",
      " [0.21804319 0.78195681]\n",
      " [0.79521007 0.20478993]\n",
      " [0.92111787 0.07888213]\n",
      " [0.74345584 0.25654416]\n",
      " [0.83434615 0.16565385]\n",
      " [0.22871859 0.77128141]\n",
      " [0.25319003 0.74680997]\n",
      " [0.27823091 0.72176909]\n",
      " [0.17468609 0.82531391]\n",
      " [0.54357129 0.45642871]\n",
      " [0.37942018 0.62057982]\n",
      " [0.13373877 0.86626123]\n",
      " [0.78631196 0.21368804]\n",
      " [0.51730197 0.48269803]\n",
      " [0.25471009 0.74528991]\n",
      " [0.86397615 0.13602385]\n",
      " [0.45390569 0.54609431]\n",
      " [0.53523233 0.46476767]\n",
      " [0.62006204 0.37993796]\n",
      " [0.92988392 0.07011608]\n",
      " [0.49978017 0.50021983]\n",
      " [0.50053245 0.49946755]\n",
      " [0.75745539 0.24254461]\n",
      " [0.63069544 0.36930456]\n",
      " [0.13243451 0.86756549]\n",
      " [0.89195916 0.10804084]\n",
      " [0.42472633 0.57527367]\n",
      " [0.26703141 0.73296859]\n",
      " [0.69092543 0.30907457]\n",
      " [0.79057018 0.20942982]\n",
      " [0.91437755 0.08562245]\n",
      " [0.29707891 0.70292109]\n",
      " [0.9509786  0.0490214 ]\n",
      " [0.62178247 0.37821753]\n",
      " [0.28553116 0.71446884]\n",
      " [0.361777   0.638223  ]\n",
      " [0.65365472 0.34634528]\n",
      " [0.71103402 0.28896598]\n",
      " [0.68248554 0.31751446]\n",
      " [0.88314496 0.11685504]\n",
      " [0.5211326  0.4788674 ]\n",
      " [0.89773205 0.10226795]\n",
      " [0.41819213 0.58180787]\n",
      " [0.9158762  0.0841238 ]\n",
      " [0.28711146 0.71288854]\n",
      " [0.34613742 0.65386258]\n",
      " [0.89235746 0.10764254]\n",
      " [0.74756017 0.25243983]\n",
      " [0.85468886 0.14531114]\n",
      " [0.82397068 0.17602932]\n",
      " [0.64998413 0.35001587]\n",
      " [0.79231603 0.20768397]\n",
      " [0.80586156 0.19413844]\n",
      " [0.79245064 0.20754936]\n",
      " [0.74166326 0.25833674]\n",
      " [0.36245113 0.63754887]\n",
      " [0.80854222 0.19145778]\n",
      " [0.889907   0.110093  ]\n",
      " [0.66657417 0.33342583]\n",
      " [0.70103021 0.29896979]\n",
      " [0.21882328 0.78117672]\n",
      " [0.2377715  0.7622285 ]\n",
      " [0.65792314 0.34207686]\n",
      " [0.82435646 0.17564354]\n",
      " [0.84484019 0.15515981]\n",
      " [0.87568866 0.12431134]\n",
      " [0.73894574 0.26105426]\n",
      " [0.96092289 0.03907711]\n",
      " [0.33837132 0.66162868]\n",
      " [0.48375182 0.51624818]\n",
      " [0.49207361 0.50792639]\n",
      " [0.57039254 0.42960746]\n",
      " [0.82978483 0.17021517]\n",
      " [0.34840324 0.65159676]\n",
      " [0.87210561 0.12789439]\n",
      " [0.4013088  0.5986912 ]\n",
      " [0.91102034 0.08897966]\n",
      " [0.33425943 0.66574057]\n",
      " [0.51206619 0.48793381]\n",
      " [0.42193669 0.57806331]\n",
      " [0.75792421 0.24207579]\n",
      " [0.66693853 0.33306147]\n",
      " [0.35225497 0.64774503]\n",
      " [0.86051374 0.13948626]\n",
      " [0.58490465 0.41509535]\n",
      " [0.8358073  0.1641927 ]\n",
      " [0.62131121 0.37868879]\n",
      " [0.87947176 0.12052824]\n",
      " [0.36295745 0.63704255]\n",
      " [0.76799033 0.23200967]\n",
      " [0.65472857 0.34527143]\n",
      " [0.31230893 0.68769107]\n",
      " [0.71843307 0.28156693]\n",
      " [0.8727883  0.1272117 ]\n",
      " [0.31193726 0.68806274]\n",
      " [0.8649781  0.1350219 ]\n",
      " [0.73118218 0.26881782]\n",
      " [0.72026266 0.27973734]\n",
      " [0.87550402 0.12449598]\n",
      " [0.63440269 0.36559731]\n",
      " [0.5965452  0.4034548 ]\n",
      " [0.80547347 0.19452653]\n",
      " [0.23048008 0.76951992]\n",
      " [0.05590055 0.94409945]\n",
      " [0.41517538 0.58482462]\n",
      " [0.30606556 0.69393444]\n",
      " [0.21408596 0.78591404]\n",
      " [0.83001053 0.16998947]\n",
      " [0.55978068 0.44021932]\n",
      " [0.28222161 0.71777839]\n",
      " [0.82052688 0.17947312]\n",
      " [0.76811908 0.23188092]\n",
      " [0.26598164 0.73401836]\n",
      " [0.30652619 0.69347381]\n",
      " [0.95568435 0.04431565]\n",
      " [0.83915777 0.16084223]\n",
      " [0.8987867  0.1012133 ]\n",
      " [0.7179468  0.2820532 ]\n",
      " [0.52891421 0.47108579]\n",
      " [0.81017813 0.18982187]\n",
      " [0.72017809 0.27982191]\n",
      " [0.83679811 0.16320189]\n",
      " [0.93407997 0.06592003]\n",
      " [0.63492436 0.36507564]\n",
      " [0.32213352 0.67786648]\n",
      " [0.84765662 0.15234338]\n",
      " [0.56148052 0.43851948]\n",
      " [0.65812795 0.34187205]\n",
      " [0.78617454 0.21382546]\n",
      " [0.94833584 0.05166416]\n",
      " [0.61280749 0.38719251]\n",
      " [0.60020877 0.39979123]\n",
      " [0.37392279 0.62607721]\n",
      " [0.34806278 0.65193722]\n",
      " [0.77934796 0.22065204]\n",
      " [0.34853015 0.65146985]\n",
      " [0.35597302 0.64402698]\n",
      " [0.7537531  0.2462469 ]\n",
      " [0.94141926 0.05858074]\n",
      " [0.82196529 0.17803471]\n",
      " [0.22321349 0.77678651]\n",
      " [0.90284809 0.09715191]\n",
      " [0.67027098 0.32972902]\n",
      " [0.26505751 0.73494249]\n",
      " [0.45100491 0.54899509]\n",
      " [0.3845098  0.6154902 ]\n",
      " [0.77641812 0.22358188]\n",
      " [0.61182306 0.38817694]\n",
      " [0.44654709 0.55345291]\n",
      " [0.4165063  0.5834937 ]\n",
      " [0.87479566 0.12520434]\n",
      " [0.64209419 0.35790581]\n",
      " [0.70108657 0.29891343]\n",
      " [0.72829593 0.27170407]\n",
      " [0.70692324 0.29307676]\n",
      " [0.4681138  0.5318862 ]\n",
      " [0.49806572 0.50193428]\n",
      " [0.61522636 0.38477364]\n",
      " [0.41706298 0.58293702]\n",
      " [0.4869936  0.5130064 ]\n",
      " [0.85767243 0.14232757]\n",
      " [0.91230537 0.08769463]\n",
      " [0.82518936 0.17481064]\n",
      " [0.22827791 0.77172209]\n",
      " [0.61066246 0.38933754]\n",
      " [0.86376207 0.13623793]\n",
      " [0.84651736 0.15348264]\n",
      " [0.11757881 0.88242119]\n",
      " [0.70738868 0.29261132]\n",
      " [0.89398011 0.10601989]\n",
      " [0.89630236 0.10369764]\n",
      " [0.97792488 0.02207512]\n",
      " [0.85198371 0.14801629]\n",
      " [0.72960436 0.27039564]\n",
      " [0.3499595  0.6500405 ]\n",
      " [0.78967241 0.21032759]\n",
      " [0.84672099 0.15327901]\n",
      " [0.67268917 0.32731083]\n",
      " [0.66260139 0.33739861]\n",
      " [0.42117608 0.57882392]\n",
      " [0.85913955 0.14086045]\n",
      " [0.83401915 0.16598085]\n",
      " [0.75938233 0.24061767]\n",
      " [0.16277633 0.83722367]\n",
      " [0.42973064 0.57026936]\n",
      " [0.68656427 0.31343573]\n",
      " [0.76313679 0.23686321]\n",
      " [0.77538413 0.22461587]\n",
      " [0.81969632 0.18030368]\n",
      " [0.37598772 0.62401228]\n",
      " [0.82313155 0.17686845]\n",
      " [0.3188749  0.6811251 ]\n",
      " [0.66497843 0.33502157]\n",
      " [0.64792938 0.35207062]\n",
      " [0.18520045 0.81479955]\n",
      " [0.42658008 0.57341992]\n",
      " [0.84180482 0.15819518]\n",
      " [0.84282487 0.15717513]\n",
      " [0.78846504 0.21153496]\n",
      " [0.84743653 0.15256347]\n",
      " [0.23465346 0.76534654]\n",
      " [0.50298588 0.49701412]\n",
      " [0.69450265 0.30549735]\n",
      " [0.70557854 0.29442146]\n",
      " [0.74774676 0.25225324]\n",
      " [0.85901651 0.14098349]]\n",
      "[0 0 0 0 0 0 0 1 1 1 0 1 0 0 0 0 0 0 1 1 0 0 0 0 1 1 0 0 0 0 1 1 1 1 0 1 1\n",
      " 0 0 1 0 1 0 0 0 1 0 0 0 1 0 1 1 0 0 0 1 0 0 1 1 0 0 0 0 0 0 1 0 1 1 0 0 0\n",
      " 0 0 0 0 0 0 1 0 0 0 0 1 1 0 0 0 0 0 0 1 1 1 0 0 1 0 1 0 1 0 1 0 0 1 0 0 0\n",
      " 0 0 1 0 0 1 0 0 1 0 0 0 0 0 0 0 1 1 1 1 1 0 0 1 0 0 1 1 0 0 0 0 0 0 0 0 0\n",
      " 0 1 0 0 0 0 0 0 0 1 1 0 1 1 0 0 0 1 0 0 1 1 1 0 0 1 1 0 0 0 0 0 1 1 0 1 1\n",
      " 0 0 0 1 0 0 0 1 0 0 0 0 0 0 1 0 0 0 0 1 0 0 0 1 1 0 0 0 0 1 0 1 0 0 1 1 0\n",
      " 0 0 0 1 0 0 0 0 0]\n"
     ]
    }
   ],
   "source": [
    "print(prob)\n",
    "print(pred)"
   ]
  },
  {
   "cell_type": "code",
   "execution_count": 23,
   "metadata": {},
   "outputs": [
    {
     "name": "stdout",
     "output_type": "stream",
     "text": [
      "              precision    recall  f1-score   support\n",
      "\n",
      "           0       0.80      0.83      0.82       151\n",
      "           1       0.66      0.61      0.64        80\n",
      "\n",
      "    accuracy                           0.76       231\n",
      "   macro avg       0.73      0.72      0.73       231\n",
      "weighted avg       0.75      0.76      0.76       231\n",
      "\n",
      "[[126  25]\n",
      " [ 31  49]]\n"
     ]
    }
   ],
   "source": [
    "pred_test=logreg.predict(X_test)\n",
    "from sklearn.metrics import classification_report, confusion_matrix\n",
    "cr=classification_report(y_test, pred_test)\n",
    "print(cr)\n",
    "cm = confusion_matrix(y_test, pred_test)\n",
    "print(cm)"
   ]
  },
  {
   "cell_type": "code",
   "execution_count": 24,
   "metadata": {},
   "outputs": [
    {
     "name": "stdout",
     "output_type": "stream",
     "text": [
      "Area under the curve is 0.805794701986755\n"
     ]
    },
    {
     "data": {
      "image/png": "[encoded data removed]",
      "text/plain": [
       "<Figure size 432x288 with 1 Axes>"
      ]
     },
     "metadata": {
      "needs_background": "light"
     },
     "output_type": "display_data"
    }
   ],
   "source": [
    "fpr,tpr,thre= metrics.roc_curve(y_test, prob[:,1])\n",
    "plt.plot(fpr, tpr)\n",
    "print('Area under the curve is',metrics.auc(fpr,tpr))"
   ]
  },
  {
   "cell_type": "markdown",
   "metadata": {},
   "source": [
    "plot the test precision curve and accuracy curve for decision thresholds between 0.1 to 1 with a step of 0.1"
   ]
  },
  {
   "cell_type": "code",
   "execution_count": 25,
   "metadata": {},
   "outputs": [
    {
     "name": "stderr",
     "output_type": "stream",
     "text": [
      "C:\\Users\\Pookie\\Anaconda3\\lib\\site-packages\\sklearn\\metrics\\classification.py:1437: UndefinedMetricWarning: Precision is ill-defined and being set to 0.0 due to no predicted samples.\n",
      "  'precision', 'predicted', average, warn_for)\n"
     ]
    },
    {
     "data": {
      "text/plain": [
       "0.6536796536796536"
      ]
     },
     "execution_count": 25,
     "metadata": {},
     "output_type": "execute_result"
    },
    {
     "data": {
      "image/png": "[encoded data removed]",
      "text/plain": [
       "<Figure size 432x288 with 1 Axes>"
      ]
     },
     "metadata": {
      "needs_background": "light"
     },
     "output_type": "display_data"
    }
   ],
   "source": [
    "from sklearn import metrics\n",
    "threshold= np.linspace(0.1,1,10)\n",
    "precision_list= []\n",
    "accuracy_list=[]\n",
    "prob=logreg.predict_proba(X_test)\n",
    "for i in threshold:\n",
    "    my_pred = prob[:,1]>=i\n",
    "    precision_list.append(metrics.precision_score(y_test, my_pred))\n",
    "    accuracy_list.append(metrics.accuracy_score(y_test, my_pred))\n",
    "plt.plot(threshold, precision_list)\n",
    "plt.plot(threshold, accuracy_list, c=\"r\")\n",
    "plt.legend(['Precision','accuracy'],loc='upper left')\n",
    "metrics.accuracy_score(y_test,my_pred)"
   ]
  },
  {
   "cell_type": "markdown",
   "metadata": {},
   "source": [
    "## Deep Neural Networks\n",
    "Using Keras, build a DNN that has better accuracy than LR. What is the accuracy, precision and recall and F1 score for the training and the test data? Plot the ROC curve?"
   ]
  },
  {
   "cell_type": "code",
   "execution_count": 26,
   "metadata": {},
   "outputs": [
    {
     "name": "stdout",
     "output_type": "stream",
     "text": [
      "WARNING:tensorflow:Falling back from v2 loop because of error: Failed to find data adapter that can handle input: <class 'pandas.core.frame.DataFrame'>, <class 'NoneType'>\n",
      "Train on 768 samples\n",
      "Epoch 1/200\n",
      "768/768 [==============================] - 0s 187us/sample - loss: 1.1440 - accuracy: 0.5872\n",
      "Epoch 2/200\n",
      "768/768 [==============================] - 0s 119us/sample - loss: 0.7973 - accuracy: 0.6224\n",
      "Epoch 3/200\n",
      "768/768 [==============================] - 0s 117us/sample - loss: 0.7370 - accuracy: 0.6497\n",
      "Epoch 4/200\n",
      "768/768 [==============================] - 0s 117us/sample - loss: 0.6759 - accuracy: 0.6549\n",
      "Epoch 5/200\n",
      "768/768 [==============================] - 0s 117us/sample - loss: 0.6530 - accuracy: 0.6680\n",
      "Epoch 6/200\n",
      "768/768 [==============================] - ETA: 0s - loss: 0.7899 - accuracy: 0.67 - 0s 114us/sample - loss: 0.7400 - accuracy: 0.6732\n",
      "Epoch 7/200\n",
      "768/768 [==============================] - 0s 114us/sample - loss: 0.6597 - accuracy: 0.6966\n",
      "Epoch 8/200\n",
      "768/768 [==============================] - 0s 118us/sample - loss: 0.6474 - accuracy: 0.6745\n",
      "Epoch 9/200\n",
      "768/768 [==============================] - 0s 117us/sample - loss: 0.6553 - accuracy: 0.6576\n",
      "Epoch 10/200\n",
      "768/768 [==============================] - 0s 114us/sample - loss: 0.6444 - accuracy: 0.6719\n",
      "Epoch 11/200\n",
      "768/768 [==============================] - 0s 121us/sample - loss: 0.6260 - accuracy: 0.6628 - loss: 0.6389 - accuracy: 0.65\n",
      "Epoch 12/200\n",
      "768/768 [==============================] - 0s 116us/sample - loss: 0.6143 - accuracy: 0.6732\n",
      "Epoch 13/200\n",
      "768/768 [==============================] - 0s 121us/sample - loss: 0.6433 - accuracy: 0.6745\n",
      "Epoch 14/200\n",
      "768/768 [==============================] - 0s 118us/sample - loss: 0.5970 - accuracy: 0.6966\n",
      "Epoch 15/200\n",
      "768/768 [==============================] - 0s 116us/sample - loss: 0.5758 - accuracy: 0.7044\n",
      "Epoch 16/200\n",
      "768/768 [==============================] - 0s 130us/sample - loss: 0.5691 - accuracy: 0.7135\n",
      "Epoch 17/200\n",
      "768/768 [==============================] - 0s 142us/sample - loss: 0.5672 - accuracy: 0.7227\n",
      "Epoch 18/200\n",
      "768/768 [==============================] - 0s 123us/sample - loss: 0.5745 - accuracy: 0.6992\n",
      "Epoch 19/200\n",
      "768/768 [==============================] - 0s 108us/sample - loss: 0.5682 - accuracy: 0.6979\n",
      "Epoch 20/200\n",
      "768/768 [==============================] - 0s 112us/sample - loss: 0.5852 - accuracy: 0.7005\n",
      "Epoch 21/200\n",
      "768/768 [==============================] - 0s 121us/sample - loss: 0.5616 - accuracy: 0.7161\n",
      "Epoch 22/200\n",
      "768/768 [==============================] - 0s 110us/sample - loss: 0.5551 - accuracy: 0.7135\n",
      "Epoch 23/200\n",
      "768/768 [==============================] - 0s 109us/sample - loss: 0.5654 - accuracy: 0.7174\n",
      "Epoch 24/200\n",
      "768/768 [==============================] - 0s 116us/sample - loss: 0.5421 - accuracy: 0.7305\n",
      "Epoch 25/200\n",
      "768/768 [==============================] - 0s 119us/sample - loss: 0.5477 - accuracy: 0.7083\n",
      "Epoch 26/200\n",
      "768/768 [==============================] - 0s 113us/sample - loss: 0.5418 - accuracy: 0.7448\n",
      "Epoch 27/200\n",
      "768/768 [==============================] - 0s 116us/sample - loss: 0.5433 - accuracy: 0.7331\n",
      "Epoch 28/200\n",
      "768/768 [==============================] - 0s 116us/sample - loss: 0.5570 - accuracy: 0.7188\n",
      "Epoch 29/200\n",
      "768/768 [==============================] - 0s 123us/sample - loss: 0.5305 - accuracy: 0.7383\n",
      "Epoch 30/200\n",
      "768/768 [==============================] - 0s 117us/sample - loss: 0.5301 - accuracy: 0.7396\n",
      "Epoch 31/200\n",
      "768/768 [==============================] - 0s 121us/sample - loss: 0.5367 - accuracy: 0.7357\n",
      "Epoch 32/200\n",
      "768/768 [==============================] - 0s 118us/sample - loss: 0.5290 - accuracy: 0.7409\n",
      "Epoch 33/200\n",
      "768/768 [==============================] - 0s 116us/sample - loss: 0.5173 - accuracy: 0.7487\n",
      "Epoch 34/200\n",
      "768/768 [==============================] - 0s 118us/sample - loss: 0.5255 - accuracy: 0.7396\n",
      "Epoch 35/200\n",
      "768/768 [==============================] - 0s 157us/sample - loss: 0.5077 - accuracy: 0.7539\n",
      "Epoch 36/200\n",
      "768/768 [==============================] - 0s 145us/sample - loss: 0.5376 - accuracy: 0.7331\n",
      "Epoch 37/200\n",
      "768/768 [==============================] - 0s 114us/sample - loss: 0.5215 - accuracy: 0.7383\n",
      "Epoch 38/200\n",
      "768/768 [==============================] - 0s 116us/sample - loss: 0.5156 - accuracy: 0.7383\n",
      "Epoch 39/200\n",
      "768/768 [==============================] - 0s 114us/sample - loss: 0.5106 - accuracy: 0.7513\n",
      "Epoch 40/200\n",
      "768/768 [==============================] - 0s 114us/sample - loss: 0.5043 - accuracy: 0.7448\n",
      "Epoch 41/200\n",
      "768/768 [==============================] - 0s 119us/sample - loss: 0.4970 - accuracy: 0.7552\n",
      "Epoch 42/200\n",
      "768/768 [==============================] - 0s 116us/sample - loss: 0.5451 - accuracy: 0.7266\n",
      "Epoch 43/200\n",
      "768/768 [==============================] - 0s 112us/sample - loss: 0.4992 - accuracy: 0.7461\n",
      "Epoch 44/200\n",
      "768/768 [==============================] - 0s 104us/sample - loss: 0.4993 - accuracy: 0.7734\n",
      "Epoch 45/200\n",
      "768/768 [==============================] - 0s 117us/sample - loss: 0.4971 - accuracy: 0.7591\n",
      "Epoch 46/200\n",
      "768/768 [==============================] - 0s 114us/sample - loss: 0.4938 - accuracy: 0.7578\n",
      "Epoch 47/200\n",
      "768/768 [==============================] - 0s 119us/sample - loss: 0.5016 - accuracy: 0.7656\n",
      "Epoch 48/200\n",
      "768/768 [==============================] - 0s 117us/sample - loss: 0.4933 - accuracy: 0.7695\n",
      "Epoch 49/200\n",
      "768/768 [==============================] - 0s 118us/sample - loss: 0.5037 - accuracy: 0.7409\n",
      "Epoch 50/200\n",
      "768/768 [==============================] - 0s 110us/sample - loss: 0.4997 - accuracy: 0.7396\n",
      "Epoch 51/200\n",
      "768/768 [==============================] - 0s 112us/sample - loss: 0.5011 - accuracy: 0.7539\n",
      "Epoch 52/200\n",
      "768/768 [==============================] - 0s 160us/sample - loss: 0.4978 - accuracy: 0.7513\n",
      "Epoch 53/200\n",
      "768/768 [==============================] - 0s 166us/sample - loss: 0.4949 - accuracy: 0.7526\n",
      "Epoch 54/200\n",
      "768/768 [==============================] - 0s 114us/sample - loss: 0.4834 - accuracy: 0.7604\n",
      "Epoch 55/200\n",
      "768/768 [==============================] - 0s 95us/sample - loss: 0.4820 - accuracy: 0.7708\n",
      "Epoch 56/200\n",
      "768/768 [==============================] - 0s 100us/sample - loss: 0.4798 - accuracy: 0.7695\n",
      "Epoch 57/200\n",
      "768/768 [==============================] - 0s 97us/sample - loss: 0.4722 - accuracy: 0.7734\n",
      "Epoch 58/200\n",
      "768/768 [==============================] - 0s 100us/sample - loss: 0.4764 - accuracy: 0.7552\n",
      "Epoch 59/200\n",
      "768/768 [==============================] - 0s 99us/sample - loss: 0.4911 - accuracy: 0.7435\n",
      "Epoch 60/200\n",
      "768/768 [==============================] - 0s 100us/sample - loss: 0.4678 - accuracy: 0.7760\n",
      "Epoch 61/200\n",
      "768/768 [==============================] - 0s 104us/sample - loss: 0.4790 - accuracy: 0.7643\n",
      "Epoch 62/200\n",
      "768/768 [==============================] - 0s 106us/sample - loss: 0.4712 - accuracy: 0.7669\n",
      "Epoch 63/200\n",
      "768/768 [==============================] - 0s 106us/sample - loss: 0.4607 - accuracy: 0.7786\n",
      "Epoch 64/200\n",
      "768/768 [==============================] - 0s 104us/sample - loss: 0.4683 - accuracy: 0.7878\n",
      "Epoch 65/200\n",
      "768/768 [==============================] - 0s 104us/sample - loss: 0.4743 - accuracy: 0.7656\n",
      "Epoch 66/200\n",
      "768/768 [==============================] - 0s 104us/sample - loss: 0.4539 - accuracy: 0.7891\n",
      "Epoch 67/200\n",
      "768/768 [==============================] - 0s 106us/sample - loss: 0.4664 - accuracy: 0.7721\n",
      "Epoch 68/200\n",
      "768/768 [==============================] - 0s 104us/sample - loss: 0.4625 - accuracy: 0.7786\n",
      "Epoch 69/200\n",
      "768/768 [==============================] - 0s 105us/sample - loss: 0.4599 - accuracy: 0.7852\n",
      "Epoch 70/200\n",
      "768/768 [==============================] - 0s 103us/sample - loss: 0.4853 - accuracy: 0.7578\n",
      "Epoch 71/200\n",
      "768/768 [==============================] - 0s 104us/sample - loss: 0.4437 - accuracy: 0.7930\n",
      "Epoch 72/200\n",
      "768/768 [==============================] - 0s 106us/sample - loss: 0.4500 - accuracy: 0.7917\n",
      "Epoch 73/200\n",
      "768/768 [==============================] - ETA: 0s - loss: 0.4566 - accuracy: 0.78 - 0s 104us/sample - loss: 0.4451 - accuracy: 0.7930\n",
      "Epoch 74/200\n",
      "768/768 [==============================] - 0s 110us/sample - loss: 0.4444 - accuracy: 0.7891\n",
      "Epoch 75/200\n"
     ]
    },
    {
     "name": "stdout",
     "output_type": "stream",
     "text": [
      "768/768 [==============================] - 0s 109us/sample - loss: 0.4448 - accuracy: 0.7799\n",
      "Epoch 76/200\n",
      "768/768 [==============================] - 0s 105us/sample - loss: 0.4578 - accuracy: 0.7865\n",
      "Epoch 77/200\n",
      "768/768 [==============================] - 0s 109us/sample - loss: 0.4885 - accuracy: 0.7461\n",
      "Epoch 78/200\n",
      "768/768 [==============================] - 0s 110us/sample - loss: 0.4453 - accuracy: 0.7995\n",
      "Epoch 79/200\n",
      "768/768 [==============================] - 0s 109us/sample - loss: 0.4493 - accuracy: 0.7799\n",
      "Epoch 80/200\n",
      "768/768 [==============================] - 0s 112us/sample - loss: 0.4377 - accuracy: 0.7969\n",
      "Epoch 81/200\n",
      "768/768 [==============================] - 0s 112us/sample - loss: 0.4480 - accuracy: 0.7865\n",
      "Epoch 82/200\n",
      "768/768 [==============================] - 0s 109us/sample - loss: 0.4391 - accuracy: 0.7839\n",
      "Epoch 83/200\n",
      "768/768 [==============================] - 0s 110us/sample - loss: 0.4415 - accuracy: 0.7878\n",
      "Epoch 84/200\n",
      "768/768 [==============================] - 0s 108us/sample - loss: 0.4478 - accuracy: 0.7852\n",
      "Epoch 85/200\n",
      "768/768 [==============================] - ETA: 0s - loss: 0.4284 - accuracy: 0.80 - 0s 110us/sample - loss: 0.4357 - accuracy: 0.8021\n",
      "Epoch 86/200\n",
      "768/768 [==============================] - 0s 113us/sample - loss: 0.4538 - accuracy: 0.7708\n",
      "Epoch 87/200\n",
      "768/768 [==============================] - 0s 110us/sample - loss: 0.4393 - accuracy: 0.7865\n",
      "Epoch 88/200\n",
      "768/768 [==============================] - 0s 112us/sample - loss: 0.4167 - accuracy: 0.7969\n",
      "Epoch 89/200\n",
      "768/768 [==============================] - 0s 110us/sample - loss: 0.4175 - accuracy: 0.8099\n",
      "Epoch 90/200\n",
      "768/768 [==============================] - 0s 114us/sample - loss: 0.4172 - accuracy: 0.7969\n",
      "Epoch 91/200\n",
      "768/768 [==============================] - 0s 116us/sample - loss: 0.4184 - accuracy: 0.8060\n",
      "Epoch 92/200\n",
      "768/768 [==============================] - 0s 114us/sample - loss: 0.4060 - accuracy: 0.8177\n",
      "Epoch 93/200\n",
      "768/768 [==============================] - 0s 110us/sample - loss: 0.4170 - accuracy: 0.8125\n",
      "Epoch 94/200\n",
      "768/768 [==============================] - 0s 121us/sample - loss: 0.4097 - accuracy: 0.8086\n",
      "Epoch 95/200\n",
      "768/768 [==============================] - 0s 117us/sample - loss: 0.4210 - accuracy: 0.7904\n",
      "Epoch 96/200\n",
      "768/768 [==============================] - 0s 117us/sample - loss: 0.4233 - accuracy: 0.7982\n",
      "Epoch 97/200\n",
      "768/768 [==============================] - 0s 121us/sample - loss: 0.4111 - accuracy: 0.8164\n",
      "Epoch 98/200\n",
      "768/768 [==============================] - 0s 117us/sample - loss: 0.4150 - accuracy: 0.8086\n",
      "Epoch 99/200\n",
      "768/768 [==============================] - 0s 118us/sample - loss: 0.4051 - accuracy: 0.8151\n",
      "Epoch 100/200\n",
      "768/768 [==============================] - 0s 120us/sample - loss: 0.4016 - accuracy: 0.8125\n",
      "Epoch 101/200\n",
      "768/768 [==============================] - 0s 121us/sample - loss: 0.4039 - accuracy: 0.8021\n",
      "Epoch 102/200\n",
      "768/768 [==============================] - 0s 121us/sample - loss: 0.3913 - accuracy: 0.8086\n",
      "Epoch 103/200\n",
      "768/768 [==============================] - 0s 126us/sample - loss: 0.4267 - accuracy: 0.7956\n",
      "Epoch 104/200\n",
      "768/768 [==============================] - 0s 113us/sample - loss: 0.4143 - accuracy: 0.7865\n",
      "Epoch 105/200\n",
      "768/768 [==============================] - ETA: 0s - loss: 0.3956 - accuracy: 0.84 - 0s 120us/sample - loss: 0.3873 - accuracy: 0.8346\n",
      "Epoch 106/200\n",
      "768/768 [==============================] - 0s 122us/sample - loss: 0.3802 - accuracy: 0.8216\n",
      "Epoch 107/200\n",
      "768/768 [==============================] - ETA: 0s - loss: 0.3677 - accuracy: 0.80 - ETA: 0s - loss: 0.4127 - accuracy: 0.80 - 0s 127us/sample - loss: 0.3927 - accuracy: 0.8112\n",
      "Epoch 108/200\n",
      "768/768 [==============================] - 0s 118us/sample - loss: 0.4054 - accuracy: 0.8112\n",
      "Epoch 109/200\n",
      "768/768 [==============================] - 0s 118us/sample - loss: 0.4020 - accuracy: 0.8281\n",
      "Epoch 110/200\n",
      "768/768 [==============================] - 0s 121us/sample - loss: 0.3801 - accuracy: 0.8229\n",
      "Epoch 111/200\n",
      "768/768 [==============================] - 0s 119us/sample - loss: 0.3934 - accuracy: 0.8151\n",
      "Epoch 112/200\n",
      "768/768 [==============================] - 0s 171us/sample - loss: 0.3848 - accuracy: 0.8242\n",
      "Epoch 113/200\n",
      "768/768 [==============================] - 0s 152us/sample - loss: 0.3907 - accuracy: 0.8203\n",
      "Epoch 114/200\n",
      "768/768 [==============================] - 0s 110us/sample - loss: 0.3739 - accuracy: 0.8372\n",
      "Epoch 115/200\n",
      "768/768 [==============================] - 0s 113us/sample - loss: 0.3785 - accuracy: 0.8177\n",
      "Epoch 116/200\n",
      "768/768 [==============================] - 0s 119us/sample - loss: 0.4003 - accuracy: 0.8138\n",
      "Epoch 117/200\n",
      "768/768 [==============================] - 0s 113us/sample - loss: 0.3887 - accuracy: 0.8229 - loss: 0.3924 - accuracy: 0.82\n",
      "Epoch 118/200\n",
      "768/768 [==============================] - ETA: 0s - loss: 0.3879 - accuracy: 0.82 - 0s 123us/sample - loss: 0.3838 - accuracy: 0.8255\n",
      "Epoch 119/200\n",
      "768/768 [==============================] - 0s 113us/sample - loss: 0.3808 - accuracy: 0.8281\n",
      "Epoch 120/200\n",
      "768/768 [==============================] - 0s 118us/sample - loss: 0.3705 - accuracy: 0.8229\n",
      "Epoch 121/200\n",
      "768/768 [==============================] - 0s 120us/sample - loss: 0.3762 - accuracy: 0.8177\n",
      "Epoch 122/200\n",
      "768/768 [==============================] - 0s 119us/sample - loss: 0.3449 - accuracy: 0.8424\n",
      "Epoch 123/200\n",
      "768/768 [==============================] - 0s 131us/sample - loss: 0.3749 - accuracy: 0.8164 - loss: 0.3621 - accuracy: 0.82\n",
      "Epoch 124/200\n",
      "768/768 [==============================] - ETA: 0s - loss: 0.3871 - accuracy: 0.80 - 0s 122us/sample - loss: 0.3884 - accuracy: 0.8112\n",
      "Epoch 125/200\n",
      "768/768 [==============================] - 0s 113us/sample - loss: 0.3568 - accuracy: 0.8333 - loss: 0.3732 - accuracy: 0.81\n",
      "Epoch 126/200\n",
      "768/768 [==============================] - 0s 121us/sample - loss: 0.3575 - accuracy: 0.8464\n",
      "Epoch 127/200\n",
      "768/768 [==============================] - 0s 130us/sample - loss: 0.3491 - accuracy: 0.8529\n",
      "Epoch 128/200\n",
      "768/768 [==============================] - 0s 177us/sample - loss: 0.3459 - accuracy: 0.8346\n",
      "Epoch 129/200\n",
      "768/768 [==============================] - 0s 209us/sample - loss: 0.3501 - accuracy: 0.8320\n",
      "Epoch 130/200\n",
      "768/768 [==============================] - 0s 140us/sample - loss: 0.3679 - accuracy: 0.8333\n",
      "Epoch 131/200\n",
      "768/768 [==============================] - 0s 142us/sample - loss: 0.3454 - accuracy: 0.8398\n",
      "Epoch 132/200\n",
      "768/768 [==============================] - 0s 143us/sample - loss: 0.3658 - accuracy: 0.8359\n",
      "Epoch 133/200\n",
      "768/768 [==============================] - 0s 132us/sample - loss: 0.3534 - accuracy: 0.8294\n",
      "Epoch 134/200\n",
      "768/768 [==============================] - 0s 127us/sample - loss: 0.3326 - accuracy: 0.8477\n",
      "Epoch 135/200\n",
      "768/768 [==============================] - 0s 126us/sample - loss: 0.3487 - accuracy: 0.8242\n",
      "Epoch 136/200\n",
      "768/768 [==============================] - 0s 147us/sample - loss: 0.3526 - accuracy: 0.8464\n",
      "Epoch 137/200\n",
      "768/768 [==============================] - 0s 144us/sample - loss: 0.3303 - accuracy: 0.8529\n",
      "Epoch 138/200\n",
      "768/768 [==============================] - 0s 134us/sample - loss: 0.3400 - accuracy: 0.8451\n",
      "Epoch 139/200\n",
      "768/768 [==============================] - 0s 149us/sample - loss: 0.3193 - accuracy: 0.8438\n",
      "Epoch 140/200\n",
      "768/768 [==============================] - 0s 151us/sample - loss: 0.3285 - accuracy: 0.8568\n",
      "Epoch 141/200\n",
      "768/768 [==============================] - 0s 142us/sample - loss: 0.3324 - accuracy: 0.8555\n",
      "Epoch 142/200\n",
      "768/768 [==============================] - 0s 142us/sample - loss: 0.3095 - accuracy: 0.8672\n",
      "Epoch 143/200\n",
      "768/768 [==============================] - 0s 127us/sample - loss: 0.3253 - accuracy: 0.8516\n",
      "Epoch 144/200\n",
      "768/768 [==============================] - 0s 134us/sample - loss: 0.3355 - accuracy: 0.8451\n",
      "Epoch 145/200\n",
      "768/768 [==============================] - 0s 134us/sample - loss: 0.3198 - accuracy: 0.8685\n",
      "Epoch 146/200\n",
      "768/768 [==============================] - 0s 126us/sample - loss: 0.3215 - accuracy: 0.8542\n",
      "Epoch 147/200\n",
      "768/768 [==============================] - 0s 127us/sample - loss: 0.3059 - accuracy: 0.8711\n",
      "Epoch 148/200\n"
     ]
    },
    {
     "name": "stdout",
     "output_type": "stream",
     "text": [
      "768/768 [==============================] - 0s 135us/sample - loss: 0.3006 - accuracy: 0.8685\n",
      "Epoch 149/200\n",
      "768/768 [==============================] - 0s 122us/sample - loss: 0.2881 - accuracy: 0.8789\n",
      "Epoch 150/200\n",
      "768/768 [==============================] - 0s 130us/sample - loss: 0.3182 - accuracy: 0.8568\n",
      "Epoch 151/200\n",
      "768/768 [==============================] - 0s 130us/sample - loss: 0.2902 - accuracy: 0.8906\n",
      "Epoch 152/200\n",
      "768/768 [==============================] - 0s 126us/sample - loss: 0.2842 - accuracy: 0.8776\n",
      "Epoch 153/200\n",
      "768/768 [==============================] - 0s 129us/sample - loss: 0.2949 - accuracy: 0.8607\n",
      "Epoch 154/200\n",
      "768/768 [==============================] - 0s 122us/sample - loss: 0.3052 - accuracy: 0.8685\n",
      "Epoch 155/200\n",
      "768/768 [==============================] - 0s 126us/sample - loss: 0.3145 - accuracy: 0.8594\n",
      "Epoch 156/200\n",
      "768/768 [==============================] - 0s 119us/sample - loss: 0.3328 - accuracy: 0.8451\n",
      "Epoch 157/200\n",
      "768/768 [==============================] - 0s 131us/sample - loss: 0.3221 - accuracy: 0.8516\n",
      "Epoch 158/200\n",
      "768/768 [==============================] - 0s 125us/sample - loss: 0.3165 - accuracy: 0.8633\n",
      "Epoch 159/200\n",
      "768/768 [==============================] - 0s 130us/sample - loss: 0.2892 - accuracy: 0.8698\n",
      "Epoch 160/200\n",
      "768/768 [==============================] - 0s 125us/sample - loss: 0.2800 - accuracy: 0.8802\n",
      "Epoch 161/200\n",
      "768/768 [==============================] - 0s 127us/sample - loss: 0.2928 - accuracy: 0.8750\n",
      "Epoch 162/200\n",
      "768/768 [==============================] - 0s 154us/sample - loss: 0.2912 - accuracy: 0.8789\n",
      "Epoch 163/200\n",
      "768/768 [==============================] - 0s 204us/sample - loss: 0.2734 - accuracy: 0.8815\n",
      "Epoch 164/200\n",
      "768/768 [==============================] - 0s 162us/sample - loss: 0.2735 - accuracy: 0.8737\n",
      "Epoch 165/200\n",
      "768/768 [==============================] - 0s 143us/sample - loss: 0.2869 - accuracy: 0.8711\n",
      "Epoch 166/200\n",
      "768/768 [==============================] - 0s 142us/sample - loss: 0.2616 - accuracy: 0.8854\n",
      "Epoch 167/200\n",
      "768/768 [==============================] - 0s 140us/sample - loss: 0.2743 - accuracy: 0.8802\n",
      "Epoch 168/200\n",
      "768/768 [==============================] - 0s 120us/sample - loss: 0.2700 - accuracy: 0.8802\n",
      "Epoch 169/200\n",
      "768/768 [==============================] - 0s 123us/sample - loss: 0.2761 - accuracy: 0.8711\n",
      "Epoch 170/200\n",
      "768/768 [==============================] - 0s 123us/sample - loss: 0.2868 - accuracy: 0.8802\n",
      "Epoch 171/200\n",
      "768/768 [==============================] - 0s 129us/sample - loss: 0.2607 - accuracy: 0.8880\n",
      "Epoch 172/200\n",
      "768/768 [==============================] - 0s 126us/sample - loss: 0.2743 - accuracy: 0.8724\n",
      "Epoch 173/200\n",
      "768/768 [==============================] - 0s 126us/sample - loss: 0.2784 - accuracy: 0.8789\n",
      "Epoch 174/200\n",
      "768/768 [==============================] - 0s 122us/sample - loss: 0.2496 - accuracy: 0.8880\n",
      "Epoch 175/200\n",
      "768/768 [==============================] - 0s 131us/sample - loss: 0.2280 - accuracy: 0.9141\n",
      "Epoch 176/200\n",
      "768/768 [==============================] - 0s 119us/sample - loss: 0.2312 - accuracy: 0.9010\n",
      "Epoch 177/200\n",
      "768/768 [==============================] - 0s 130us/sample - loss: 0.2404 - accuracy: 0.8984\n",
      "Epoch 178/200\n",
      "768/768 [==============================] - 0s 126us/sample - loss: 0.2728 - accuracy: 0.8789\n",
      "Epoch 179/200\n",
      "768/768 [==============================] - 0s 126us/sample - loss: 0.2608 - accuracy: 0.8854\n",
      "Epoch 180/200\n",
      "768/768 [==============================] - 0s 122us/sample - loss: 0.2931 - accuracy: 0.8906\n",
      "Epoch 181/200\n",
      "768/768 [==============================] - 0s 136us/sample - loss: 0.2624 - accuracy: 0.8945\n",
      "Epoch 182/200\n",
      "768/768 [==============================] - 0s 131us/sample - loss: 0.2379 - accuracy: 0.8984\n",
      "Epoch 183/200\n",
      "768/768 [==============================] - 0s 127us/sample - loss: 0.2368 - accuracy: 0.8958\n",
      "Epoch 184/200\n",
      "768/768 [==============================] - ETA: 0s - loss: 0.2249 - accuracy: 0.90 - 0s 135us/sample - loss: 0.2655 - accuracy: 0.8945\n",
      "Epoch 185/200\n",
      "768/768 [==============================] - 0s 130us/sample - loss: 0.2361 - accuracy: 0.9049\n",
      "Epoch 186/200\n",
      "768/768 [==============================] - 0s 129us/sample - loss: 0.2223 - accuracy: 0.8971\n",
      "Epoch 187/200\n",
      "768/768 [==============================] - 0s 130us/sample - loss: 0.2235 - accuracy: 0.9036\n",
      "Epoch 188/200\n",
      "768/768 [==============================] - 0s 127us/sample - loss: 0.2146 - accuracy: 0.9049\n",
      "Epoch 189/200\n",
      "768/768 [==============================] - 0s 125us/sample - loss: 0.2266 - accuracy: 0.9141\n",
      "Epoch 190/200\n",
      "768/768 [==============================] - 0s 130us/sample - loss: 0.2799 - accuracy: 0.8711\n",
      "Epoch 191/200\n",
      "768/768 [==============================] - 0s 125us/sample - loss: 0.2495 - accuracy: 0.8802\n",
      "Epoch 192/200\n",
      "768/768 [==============================] - 0s 132us/sample - loss: 0.2199 - accuracy: 0.9049\n",
      "Epoch 193/200\n",
      "768/768 [==============================] - 0s 125us/sample - loss: 0.2227 - accuracy: 0.9141\n",
      "Epoch 194/200\n",
      "768/768 [==============================] - 0s 126us/sample - loss: 0.2246 - accuracy: 0.8984\n",
      "Epoch 195/200\n",
      "768/768 [==============================] - 0s 125us/sample - loss: 0.2309 - accuracy: 0.8958\n",
      "Epoch 196/200\n",
      "768/768 [==============================] - 0s 130us/sample - loss: 0.2247 - accuracy: 0.9193\n",
      "Epoch 197/200\n",
      "768/768 [==============================] - 0s 126us/sample - loss: 0.2367 - accuracy: 0.8932\n",
      "Epoch 198/200\n",
      "768/768 [==============================] - 0s 130us/sample - loss: 0.2231 - accuracy: 0.9089\n",
      "Epoch 199/200\n",
      "768/768 [==============================] - 0s 122us/sample - loss: 0.2040 - accuracy: 0.9062\n",
      "Epoch 200/200\n",
      "768/768 [==============================] - 0s 131us/sample - loss: 0.2154 - accuracy: 0.9076\n"
     ]
    },
    {
     "data": {
      "text/plain": [
       "<tensorflow.python.keras.callbacks.History at 0x21ceaa6df98>"
      ]
     },
     "execution_count": 26,
     "metadata": {},
     "output_type": "execute_result"
    }
   ],
   "source": [
    "import tensorflow as tf\n",
    "from tensorflow.keras import models, layers\n",
    "model = models.Sequential()\n",
    "model.add(layers.Dense(150,input_dim=8, activation = 'relu'))\n",
    "model.add(layers.Dense(100, activation = 'relu'))\n",
    "model.add(layers.Dense(50, activation = 'relu'))\n",
    "model.add(layers.Dense(1, activation = 'sigmoid'))\n",
    "model.compile(loss='binary_crossentropy', optimizer = 'adam', metrics=['accuracy'])\n",
    "model.fit(X,y, epochs=200, batch_size=10)"
   ]
  },
  {
   "cell_type": "code",
   "execution_count": 27,
   "metadata": {},
   "outputs": [
    {
     "name": "stdout",
     "output_type": "stream",
     "text": [
      "WARNING:tensorflow:Falling back from v2 loop because of error: Failed to find data adapter that can handle input: <class 'pandas.core.frame.DataFrame'>, <class 'NoneType'>\n"
     ]
    }
   ],
   "source": [
    "pred=model.predict_classes(X)"
   ]
  },
  {
   "cell_type": "code",
   "execution_count": 28,
   "metadata": {},
   "outputs": [
    {
     "name": "stdout",
     "output_type": "stream",
     "text": [
      "              precision    recall  f1-score   support\n",
      "\n",
      "           0       0.94      0.95      0.94       500\n",
      "           1       0.90      0.89      0.89       268\n",
      "\n",
      "    accuracy                           0.93       768\n",
      "   macro avg       0.92      0.92      0.92       768\n",
      "weighted avg       0.93      0.93      0.93       768\n",
      "\n"
     ]
    }
   ],
   "source": [
    "from sklearn.metrics import classification_report, confusion_matrix\n",
    "(confusion_matrix(y,pred))\n",
    "print(classification_report(y,pred))"
   ]
  },
  {
   "cell_type": "code",
   "execution_count": 29,
   "metadata": {},
   "outputs": [
    {
     "name": "stdout",
     "output_type": "stream",
     "text": [
      "WARNING:tensorflow:Falling back from v2 loop because of error: Failed to find data adapter that can handle input: <class 'pandas.core.frame.DataFrame'>, <class 'NoneType'>\n"
     ]
    },
    {
     "data": {
      "text/plain": [
       "[<matplotlib.lines.Line2D at 0x21ce5017588>]"
      ]
     },
     "execution_count": 29,
     "metadata": {},
     "output_type": "execute_result"
    },
    {
     "data": {
      "image/png": "[encoded data removed]",
      "text/plain": [
       "<Figure size 432x288 with 1 Axes>"
      ]
     },
     "metadata": {
      "needs_background": "light"
     },
     "output_type": "display_data"
    }
   ],
   "source": [
    "from sklearn import metrics\n",
    "prob = model.predict(X)\n",
    "#Plotting the RoC Curve\n",
    "fpr,tpr,thre= metrics.roc_curve(y, prob)\n",
    "plt.plot(fpr, tpr)\n"
   ]
  },
  {
   "cell_type": "markdown",
   "metadata": {},
   "source": [
    "plot the test precision curve  and accuracy curve for decision thresholds between 0.1 to 1 with a step of 0.1"
   ]
  },
  {
   "cell_type": "code",
   "execution_count": 30,
   "metadata": {},
   "outputs": [
    {
     "data": {
      "text/plain": [
       "<matplotlib.legend.Legend at 0x21cebb2ff28>"
      ]
     },
     "execution_count": 30,
     "metadata": {},
     "output_type": "execute_result"
    },
    {
     "data": {
      "image/png": "[encoded data removed]",
      "text/plain": [
       "<Figure size 432x288 with 1 Axes>"
      ]
     },
     "metadata": {
      "needs_background": "light"
     },
     "output_type": "display_data"
    }
   ],
   "source": [
    "from sklearn import metrics\n",
    "threshold= np.linspace(0.1,1,10)\n",
    "precision_list= []\n",
    "accuracy_list=[]\n",
    "recall_list=[]\n",
    "for i in threshold:\n",
    "    my_pred = prob[:,]>=i\n",
    "    precision_list.append(metrics.precision_score(y, my_pred))\n",
    "    accuracy_list.append(metrics.accuracy_score(y,my_pred))\n",
    "plt.plot(threshold, precision_list)\n",
    "plt.plot(threshold, accuracy_list, c=\"r\")\n",
    "plt.legend(['Precision','accuracy'],loc='upper left')"
   ]
  },
  {
   "cell_type": "markdown",
   "metadata": {},
   "source": [
    "## Random Forest\n",
    "Build a random forest with `n_estimators=100`. What is the accuracy, precision and recall and F1 score for the training and the test data? Plot the ROC curve? Is the model overfitting"
   ]
  },
  {
   "cell_type": "code",
   "execution_count": 31,
   "metadata": {},
   "outputs": [
    {
     "data": {
      "text/plain": [
       "RandomForestClassifier(bootstrap=True, class_weight=None, criterion='gini',\n",
       "                       max_depth=None, max_features='auto', max_leaf_nodes=None,\n",
       "                       min_impurity_decrease=0.0, min_impurity_split=None,\n",
       "                       min_samples_leaf=1, min_samples_split=2,\n",
       "                       min_weight_fraction_leaf=0.0, n_estimators=100,\n",
       "                       n_jobs=None, oob_score=False, random_state=None,\n",
       "                       verbose=0, warm_start=False)"
      ]
     },
     "execution_count": 31,
     "metadata": {},
     "output_type": "execute_result"
    }
   ],
   "source": [
    "from sklearn.ensemble import RandomForestClassifier\n",
    "rfc = RandomForestClassifier(n_estimators=100)\n",
    "rfc.fit(X_train, y_train)"
   ]
  },
  {
   "cell_type": "code",
   "execution_count": 32,
   "metadata": {},
   "outputs": [],
   "source": [
    "rfc_pred = rfc.predict(X_test)"
   ]
  },
  {
   "cell_type": "code",
   "execution_count": 33,
   "metadata": {},
   "outputs": [
    {
     "name": "stdout",
     "output_type": "stream",
     "text": [
      "              precision    recall  f1-score   support\n",
      "\n",
      "           0       0.81      0.82      0.81       151\n",
      "           1       0.65      0.62      0.64        80\n",
      "\n",
      "    accuracy                           0.75       231\n",
      "   macro avg       0.73      0.72      0.73       231\n",
      "weighted avg       0.75      0.75      0.75       231\n",
      "\n"
     ]
    }
   ],
   "source": [
    "from sklearn.metrics import classification_report, confusion_matrix\n",
    "(confusion_matrix(y_test,rfc_pred))\n",
    "print(classification_report(y_test,rfc_pred))"
   ]
  },
  {
   "cell_type": "markdown",
   "metadata": {},
   "source": [
    "build another model to limit the overfitting problem by using `n_estimators=1000, max_depth=8` as your random forest parameters. Is the overfitting better now?"
   ]
  },
  {
   "cell_type": "code",
   "execution_count": 34,
   "metadata": {},
   "outputs": [
    {
     "data": {
      "text/plain": [
       "RandomForestClassifier(bootstrap=True, class_weight=None, criterion='gini',\n",
       "                       max_depth=8, max_features='auto', max_leaf_nodes=None,\n",
       "                       min_impurity_decrease=0.0, min_impurity_split=None,\n",
       "                       min_samples_leaf=1, min_samples_split=2,\n",
       "                       min_weight_fraction_leaf=0.0, n_estimators=1000,\n",
       "                       n_jobs=None, oob_score=False, random_state=None,\n",
       "                       verbose=0, warm_start=False)"
      ]
     },
     "execution_count": 34,
     "metadata": {},
     "output_type": "execute_result"
    }
   ],
   "source": [
    "from sklearn.ensemble import RandomForestClassifier\n",
    "rfc = RandomForestClassifier(n_estimators=1000, max_depth=8)\n",
    "rfc.fit(X_train, y_train)"
   ]
  },
  {
   "cell_type": "code",
   "execution_count": 35,
   "metadata": {},
   "outputs": [
    {
     "data": {
      "text/plain": [
       "array([[0.5403967 , 0.4596033 ],\n",
       "       [0.82092238, 0.17907762],\n",
       "       [0.89339936, 0.10660064],\n",
       "       [0.80373531, 0.19626469],\n",
       "       [0.55253211, 0.44746789],\n",
       "       [0.46157942, 0.53842058],\n",
       "       [0.99561169, 0.00438831],\n",
       "       [0.40892716, 0.59107284],\n",
       "       [0.39750585, 0.60249415],\n",
       "       [0.36946426, 0.63053574],\n",
       "       [0.74141809, 0.25858191],\n",
       "       [0.20163589, 0.79836411],\n",
       "       [0.65309026, 0.34690974],\n",
       "       [0.6642531 , 0.3357469 ],\n",
       "       [0.97513339, 0.02486661],\n",
       "       [0.57654256, 0.42345744],\n",
       "       [0.87367583, 0.12632417],\n",
       "       [0.96309654, 0.03690346],\n",
       "       [0.35564782, 0.64435218],\n",
       "       [0.52774825, 0.47225175],\n",
       "       [0.64449815, 0.35550185],\n",
       "       [0.89752953, 0.10247047],\n",
       "       [0.65025545, 0.34974455],\n",
       "       [0.98306661, 0.01693339],\n",
       "       [0.40931282, 0.59068718],\n",
       "       [0.14306945, 0.85693055],\n",
       "       [0.91689559, 0.08310441],\n",
       "       [0.97348476, 0.02651524],\n",
       "       [0.82614057, 0.17385943],\n",
       "       [0.79586988, 0.20413012],\n",
       "       [0.25284923, 0.74715077],\n",
       "       [0.30824716, 0.69175284],\n",
       "       [0.26970895, 0.73029105],\n",
       "       [0.21385371, 0.78614629],\n",
       "       [0.48037624, 0.51962376],\n",
       "       [0.24585699, 0.75414301],\n",
       "       [0.19818404, 0.80181596],\n",
       "       [0.59151437, 0.40848563],\n",
       "       [0.82336973, 0.17663027],\n",
       "       [0.36802288, 0.63197712],\n",
       "       [0.94372536, 0.05627464],\n",
       "       [0.63061394, 0.36938606],\n",
       "       [0.46067458, 0.53932542],\n",
       "       [0.54501344, 0.45498656],\n",
       "       [0.94067249, 0.05932751],\n",
       "       [0.32972905, 0.67027095],\n",
       "       [0.49254955, 0.50745045],\n",
       "       [0.81035998, 0.18964002],\n",
       "       [0.85810744, 0.14189256],\n",
       "       [0.16511474, 0.83488526],\n",
       "       [0.98464001, 0.01535999],\n",
       "       [0.21031875, 0.78968125],\n",
       "       [0.20386617, 0.79613383],\n",
       "       [0.71721607, 0.28278393],\n",
       "       [0.88681296, 0.11318704],\n",
       "       [0.96598988, 0.03401012],\n",
       "       [0.34915528, 0.65084472],\n",
       "       [0.97135435, 0.02864565],\n",
       "       [0.79234527, 0.20765473],\n",
       "       [0.20293808, 0.79706192],\n",
       "       [0.33951586, 0.66048414],\n",
       "       [0.78594974, 0.21405026],\n",
       "       [0.66793833, 0.33206167],\n",
       "       [0.6189453 , 0.3810547 ],\n",
       "       [0.90081172, 0.09918828],\n",
       "       [0.3079161 , 0.6920839 ],\n",
       "       [0.98390256, 0.01609744],\n",
       "       [0.42402136, 0.57597864],\n",
       "       [0.93619559, 0.06380441],\n",
       "       [0.24917149, 0.75082851],\n",
       "       [0.25200752, 0.74799248],\n",
       "       [0.80534197, 0.19465803],\n",
       "       [0.89066825, 0.10933175],\n",
       "       [0.94850211, 0.05149789],\n",
       "       [0.87344897, 0.12655103],\n",
       "       [0.58286913, 0.41713087],\n",
       "       [0.77435459, 0.22564541],\n",
       "       [0.8830153 , 0.1169847 ],\n",
       "       [0.82916348, 0.17083652],\n",
       "       [0.7307287 , 0.2692713 ],\n",
       "       [0.18277732, 0.81722268],\n",
       "       [0.86734195, 0.13265805],\n",
       "       [0.82769056, 0.17230944],\n",
       "       [0.43613846, 0.56386154],\n",
       "       [0.83408586, 0.16591414],\n",
       "       [0.1053705 , 0.8946295 ],\n",
       "       [0.33472855, 0.66527145],\n",
       "       [0.56154847, 0.43845153],\n",
       "       [0.75854866, 0.24145134],\n",
       "       [0.96305405, 0.03694595],\n",
       "       [0.97413644, 0.02586356],\n",
       "       [0.7562957 , 0.2437043 ],\n",
       "       [0.97975722, 0.02024278],\n",
       "       [0.49457383, 0.50542617],\n",
       "       [0.60388212, 0.39611788],\n",
       "       [0.41120662, 0.58879338],\n",
       "       [0.46315142, 0.53684858],\n",
       "       [0.94224726, 0.05775274],\n",
       "       [0.29483104, 0.70516896],\n",
       "       [0.79515852, 0.20484148],\n",
       "       [0.24563684, 0.75436316],\n",
       "       [0.94725303, 0.05274697],\n",
       "       [0.4646469 , 0.5353531 ],\n",
       "       [0.44555356, 0.55444644],\n",
       "       [0.19831183, 0.80168817],\n",
       "       [0.77384829, 0.22615171],\n",
       "       [0.75208895, 0.24791105],\n",
       "       [0.15617917, 0.84382083],\n",
       "       [0.80382711, 0.19617289],\n",
       "       [0.34700478, 0.65299522],\n",
       "       [0.96412382, 0.03587618],\n",
       "       [0.50813425, 0.49186575],\n",
       "       [0.81115447, 0.18884553],\n",
       "       [0.18333439, 0.81666561],\n",
       "       [0.73131398, 0.26868602],\n",
       "       [0.64658166, 0.35341834],\n",
       "       [0.30738238, 0.69261762],\n",
       "       [0.68406226, 0.31593774],\n",
       "       [0.95414016, 0.04585984],\n",
       "       [0.51265901, 0.48734099],\n",
       "       [0.98069588, 0.01930412],\n",
       "       [0.80750586, 0.19249414],\n",
       "       [0.6200285 , 0.3799715 ],\n",
       "       [0.93298183, 0.06701817],\n",
       "       [0.7266663 , 0.2733337 ],\n",
       "       [0.49657274, 0.50342726],\n",
       "       [0.75878679, 0.24121321],\n",
       "       [0.26069426, 0.73930574],\n",
       "       [0.24928789, 0.75071211],\n",
       "       [0.35199466, 0.64800534],\n",
       "       [0.37244909, 0.62755091],\n",
       "       [0.27163876, 0.72836124],\n",
       "       [0.94149007, 0.05850993],\n",
       "       [0.58222425, 0.41777575],\n",
       "       [0.29138395, 0.70861605],\n",
       "       [0.61736852, 0.38263148],\n",
       "       [0.73012142, 0.26987858],\n",
       "       [0.327973  , 0.672027  ],\n",
       "       [0.23609137, 0.76390863],\n",
       "       [0.9854193 , 0.0145807 ],\n",
       "       [0.97587968, 0.02412032],\n",
       "       [0.98942856, 0.01057144],\n",
       "       [0.74979586, 0.25020414],\n",
       "       [0.49732261, 0.50267739],\n",
       "       [0.8989297 , 0.1010703 ],\n",
       "       [0.58193888, 0.41806112],\n",
       "       [0.73943558, 0.26056442],\n",
       "       [0.98875818, 0.01124182],\n",
       "       [0.6601967 , 0.3398033 ],\n",
       "       [0.22603323, 0.77396677],\n",
       "       [0.85163831, 0.14836169],\n",
       "       [0.63848968, 0.36151032],\n",
       "       [0.57932322, 0.42067678],\n",
       "       [0.64432613, 0.35567387],\n",
       "       [0.98424375, 0.01575625],\n",
       "       [0.49356981, 0.50643019],\n",
       "       [0.74134678, 0.25865322],\n",
       "       [0.52275709, 0.47724291],\n",
       "       [0.41578319, 0.58421681],\n",
       "       [0.88033469, 0.11966531],\n",
       "       [0.59178147, 0.40821853],\n",
       "       [0.38624666, 0.61375334],\n",
       "       [0.78249028, 0.21750972],\n",
       "       [0.99232632, 0.00767368],\n",
       "       [0.88487587, 0.11512413],\n",
       "       [0.19030392, 0.80969608],\n",
       "       [0.98280783, 0.01719217],\n",
       "       [0.67938264, 0.32061736],\n",
       "       [0.21410225, 0.78589775],\n",
       "       [0.40639178, 0.59360822],\n",
       "       [0.36751084, 0.63248916],\n",
       "       [0.92197329, 0.07802671],\n",
       "       [0.4562635 , 0.5437365 ],\n",
       "       [0.49400297, 0.50599703],\n",
       "       [0.22208346, 0.77791654],\n",
       "       [0.8881445 , 0.1118555 ],\n",
       "       [0.57336717, 0.42663283],\n",
       "       [0.49334029, 0.50665971],\n",
       "       [0.54263068, 0.45736932],\n",
       "       [0.44352113, 0.55647887],\n",
       "       [0.70078006, 0.29921994],\n",
       "       [0.57180009, 0.42819991],\n",
       "       [0.58127444, 0.41872556],\n",
       "       [0.29709629, 0.70290371],\n",
       "       [0.33393469, 0.66606531],\n",
       "       [0.96955036, 0.03044964],\n",
       "       [0.94467671, 0.05532329],\n",
       "       [0.91520469, 0.08479531],\n",
       "       [0.47808176, 0.52191824],\n",
       "       [0.43497158, 0.56502842],\n",
       "       [0.94856042, 0.05143958],\n",
       "       [0.93335324, 0.06664676],\n",
       "       [0.25237033, 0.74762967],\n",
       "       [0.75102613, 0.24897387],\n",
       "       [0.74554775, 0.25445225],\n",
       "       [0.95161104, 0.04838896],\n",
       "       [0.96950878, 0.03049122],\n",
       "       [0.97438159, 0.02561841],\n",
       "       [0.89182845, 0.10817155],\n",
       "       [0.19903531, 0.80096469],\n",
       "       [0.68670314, 0.31329686],\n",
       "       [0.93225302, 0.06774698],\n",
       "       [0.61443562, 0.38556438],\n",
       "       [0.76968668, 0.23031332],\n",
       "       [0.30915968, 0.69084032],\n",
       "       [0.92877114, 0.07122886],\n",
       "       [0.92645342, 0.07354658],\n",
       "       [0.71806229, 0.28193771],\n",
       "       [0.1930565 , 0.8069435 ],\n",
       "       [0.60952623, 0.39047377],\n",
       "       [0.55851913, 0.44148087],\n",
       "       [0.83171293, 0.16828707],\n",
       "       [0.91933323, 0.08066677],\n",
       "       [0.86304888, 0.13695112],\n",
       "       [0.37872667, 0.62127333],\n",
       "       [0.93818567, 0.06181433],\n",
       "       [0.33257488, 0.66742512],\n",
       "       [0.39788666, 0.60211334],\n",
       "       [0.56916077, 0.43083923],\n",
       "       [0.17690879, 0.82309121],\n",
       "       [0.39556903, 0.60443097],\n",
       "       [0.69032322, 0.30967678],\n",
       "       [0.97595459, 0.02404541],\n",
       "       [0.8732241 , 0.1267759 ],\n",
       "       [0.91440121, 0.08559879],\n",
       "       [0.28005012, 0.71994988],\n",
       "       [0.7335472 , 0.2664528 ],\n",
       "       [0.75500649, 0.24499351],\n",
       "       [0.65556938, 0.34443062],\n",
       "       [0.71319864, 0.28680136],\n",
       "       [0.79951462, 0.20048538]])"
      ]
     },
     "execution_count": 35,
     "metadata": {},
     "output_type": "execute_result"
    }
   ],
   "source": [
    "rfc_pred = rfc.predict(X_test)\n",
    "rfc_pred\n",
    "rfc_prob=rfc.predict_proba(X_test)\n",
    "rfc_prob\n"
   ]
  },
  {
   "cell_type": "code",
   "execution_count": 36,
   "metadata": {},
   "outputs": [
    {
     "name": "stdout",
     "output_type": "stream",
     "text": [
      "              precision    recall  f1-score   support\n",
      "\n",
      "           0       0.81      0.80      0.81       151\n",
      "           1       0.63      0.65      0.64        80\n",
      "\n",
      "    accuracy                           0.75       231\n",
      "   macro avg       0.72      0.73      0.72       231\n",
      "weighted avg       0.75      0.75      0.75       231\n",
      "\n"
     ]
    }
   ],
   "source": [
    "from sklearn.metrics import classification_report, confusion_matrix\n",
    "(confusion_matrix(y_test,rfc_pred))\n",
    "print(classification_report(y_test,rfc_pred))"
   ]
  },
  {
   "cell_type": "markdown",
   "metadata": {},
   "source": [
    "plot the test precision curve  and accuracy curve for decision thresholds between 0.1 to 1 with a step of 0.1"
   ]
  },
  {
   "cell_type": "code",
   "execution_count": 37,
   "metadata": {},
   "outputs": [
    {
     "name": "stderr",
     "output_type": "stream",
     "text": [
      "C:\\Users\\Pookie\\Anaconda3\\lib\\site-packages\\sklearn\\metrics\\classification.py:1437: UndefinedMetricWarning: Precision is ill-defined and being set to 0.0 due to no predicted samples.\n",
      "  'precision', 'predicted', average, warn_for)\n"
     ]
    },
    {
     "data": {
      "text/plain": [
       "<matplotlib.legend.Legend at 0x21cebcd1c18>"
      ]
     },
     "execution_count": 37,
     "metadata": {},
     "output_type": "execute_result"
    },
    {
     "data": {
      "image/png": "[encoded data removed]",
      "text/plain": [
       "<Figure size 432x288 with 1 Axes>"
      ]
     },
     "metadata": {
      "needs_background": "light"
     },
     "output_type": "display_data"
    }
   ],
   "source": [
    "threshold= np.linspace(0.1,1,10)\n",
    "precision_list= []\n",
    "accuracy_list=[]\n",
    "for i in threshold:\n",
    "    my_pred = rfc_prob[:,1]>=i\n",
    "    precision_list.append(metrics.precision_score(y_test, my_pred))\n",
    "    accuracy_list.append(metrics.accuracy_score(y_test, my_pred))\n",
    "plt.plot(threshold, precision_list)\n",
    "plt.plot(threshold, accuracy_list, c=\"r\")\n",
    "plt.legend(['Precision','accuracy'],loc='upper left')"
   ]
  },
  {
   "cell_type": "markdown",
   "metadata": {},
   "source": [
    "- Write a few lines about each of the three models and if there is one superior model and why do you think so?"
   ]
  },
  {
   "cell_type": "code",
   "execution_count": 38,
   "metadata": {},
   "outputs": [
    {
     "name": "stdout",
     "output_type": "stream",
     "text": [
      "The DNN is the best model in this scenario, It gave us a better accuracy result of over 90 %.However, the logistic Regression accuracy was higher than Random Forest. I noticed that the Random Forest model improved a little bit when we introduced the max_depth=8 and n_estimation of 1000\n"
     ]
    }
   ],
   "source": [
    "print('The DNN is the best model in this scenario, It gave us a better accuracy result of over 90 %.However, the logistic Regression accuracy was higher than Random Forest. I noticed that the Random Forest model improved a little bit when we introduced the max_depth=8 and n_estimation of 1000')  "
   ]
  },
  {
   "cell_type": "markdown",
   "metadata": {},
   "source": []
  },
  {
   "cell_type": "markdown",
   "metadata": {},
   "source": [
    "![](machine_learning.png)"
   ]
  }
 ],
 "metadata": {
  "kernelspec": {
   "display_name": "Python 3",
   "language": "python",
   "name": "python3"
  },
  "language_info": {
   "codemirror_mode": {
    "name": "ipython",
    "version": 3
   },
   "file_extension": ".py",
   "mimetype": "text/x-python",
   "name": "python",
   "nbconvert_exporter": "python",
   "pygments_lexer": "ipython3",
   "version": "3.7.1"
  }
 },
 "nbformat": 4,
 "nbformat_minor": 2
}
