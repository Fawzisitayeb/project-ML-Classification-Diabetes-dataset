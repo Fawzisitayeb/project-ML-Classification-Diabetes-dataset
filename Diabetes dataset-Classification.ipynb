{
 "cells": [
  {
   "cell_type": "markdown",
   "metadata": {},
   "source": [
    "Diabetes dataset- ML classification\n",
    "***Applied PCA, Used Kmeans to calculate Homogonity and Completeness score, split the dataset, build different models using logistic regression, DNN, Random Forest. Also plotted test prediction curve and accuarcy curve within certain thresholds***\n"
   ]
  },
  {
   "cell_type": "markdown",
   "metadata": {},
   "source": [
    "### PCA\n",
    "First we start with PCA. Using PCA, show the importance of each of the PCA dimensions on a bar plot. What is a reasonable number of dimensions in your opinion to obtain at least 95% explained_var_ratio?"
   ]
  },
  {
   "cell_type": "code",
   "execution_count": 1,
   "metadata": {},
   "outputs": [],
   "source": [
    "import pandas as pd\n",
    "import matplotlib.pyplot as plt \n",
    "from sklearn import metrics\n",
    "import numpy as np\n",
    "import seaborn as sns "
   ]
  },
  {
   "cell_type": "code",
   "execution_count": 2,
   "metadata": {},
   "outputs": [],
   "source": [
    "df = pd.read_csv('diabetes.csv')"
   ]
  },
  {
   "cell_type": "code",
   "execution_count": 3,
   "metadata": {},
   "outputs": [
    {
     "data": {
      "text/html": [
       "<div>\n",
       "<style scoped>\n",
       "    .dataframe tbody tr th:only-of-type {\n",
       "        vertical-align: middle;\n",
       "    }\n",
       "\n",
       "    .dataframe tbody tr th {\n",
       "        vertical-align: top;\n",
       "    }\n",
       "\n",
       "    .dataframe thead th {\n",
       "        text-align: right;\n",
       "    }\n",
       "</style>\n",
       "<table border=\"1\" class=\"dataframe\">\n",
       "  <thead>\n",
       "    <tr style=\"text-align: right;\">\n",
       "      <th></th>\n",
       "      <th>Pregnancies</th>\n",
       "      <th>Glucose</th>\n",
       "      <th>BloodPressure</th>\n",
       "      <th>SkinThickness</th>\n",
       "      <th>Insulin</th>\n",
       "      <th>BMI</th>\n",
       "      <th>DiabetesPedigreeFunction</th>\n",
       "      <th>Age</th>\n",
       "      <th>Outcome</th>\n",
       "    </tr>\n",
       "  </thead>\n",
       "  <tbody>\n",
       "    <tr>\n",
       "      <th>0</th>\n",
       "      <td>6</td>\n",
       "      <td>148</td>\n",
       "      <td>72</td>\n",
       "      <td>35</td>\n",
       "      <td>0</td>\n",
       "      <td>33.6</td>\n",
       "      <td>0.627</td>\n",
       "      <td>50</td>\n",
       "      <td>1</td>\n",
       "    </tr>\n",
       "    <tr>\n",
       "      <th>1</th>\n",
       "      <td>1</td>\n",
       "      <td>85</td>\n",
       "      <td>66</td>\n",
       "      <td>29</td>\n",
       "      <td>0</td>\n",
       "      <td>26.6</td>\n",
       "      <td>0.351</td>\n",
       "      <td>31</td>\n",
       "      <td>0</td>\n",
       "    </tr>\n",
       "    <tr>\n",
       "      <th>2</th>\n",
       "      <td>8</td>\n",
       "      <td>183</td>\n",
       "      <td>64</td>\n",
       "      <td>0</td>\n",
       "      <td>0</td>\n",
       "      <td>23.3</td>\n",
       "      <td>0.672</td>\n",
       "      <td>32</td>\n",
       "      <td>1</td>\n",
       "    </tr>\n",
       "    <tr>\n",
       "      <th>3</th>\n",
       "      <td>1</td>\n",
       "      <td>89</td>\n",
       "      <td>66</td>\n",
       "      <td>23</td>\n",
       "      <td>94</td>\n",
       "      <td>28.1</td>\n",
       "      <td>0.167</td>\n",
       "      <td>21</td>\n",
       "      <td>0</td>\n",
       "    </tr>\n",
       "    <tr>\n",
       "      <th>4</th>\n",
       "      <td>0</td>\n",
       "      <td>137</td>\n",
       "      <td>40</td>\n",
       "      <td>35</td>\n",
       "      <td>168</td>\n",
       "      <td>43.1</td>\n",
       "      <td>2.288</td>\n",
       "      <td>33</td>\n",
       "      <td>1</td>\n",
       "    </tr>\n",
       "  </tbody>\n",
       "</table>\n",
       "</div>"
      ],
      "text/plain": [
       "   Pregnancies  Glucose  BloodPressure  SkinThickness  Insulin   BMI  \\\n",
       "0            6      148             72             35        0  33.6   \n",
       "1            1       85             66             29        0  26.6   \n",
       "2            8      183             64              0        0  23.3   \n",
       "3            1       89             66             23       94  28.1   \n",
       "4            0      137             40             35      168  43.1   \n",
       "\n",
       "   DiabetesPedigreeFunction  Age  Outcome  \n",
       "0                     0.627   50        1  \n",
       "1                     0.351   31        0  \n",
       "2                     0.672   32        1  \n",
       "3                     0.167   21        0  \n",
       "4                     2.288   33        1  "
      ]
     },
     "execution_count": 3,
     "metadata": {},
     "output_type": "execute_result"
    }
   ],
   "source": [
    "df.head()"
   ]
  },
  {
   "cell_type": "code",
   "execution_count": 4,
   "metadata": {},
   "outputs": [
    {
     "data": {
      "text/plain": [
       "(768, 9)"
      ]
     },
     "execution_count": 4,
     "metadata": {},
     "output_type": "execute_result"
    }
   ],
   "source": [
    "df.shape"
   ]
  },
  {
   "cell_type": "code",
   "execution_count": 5,
   "metadata": {},
   "outputs": [],
   "source": [
    "from sklearn.decomposition import PCA"
   ]
  },
  {
   "cell_type": "code",
   "execution_count": 6,
   "metadata": {},
   "outputs": [],
   "source": [
    "pca=PCA()\n",
    "reduced_pca=pca.fit_transform(df)"
   ]
  },
  {
   "cell_type": "code",
   "execution_count": 7,
   "metadata": {},
   "outputs": [
    {
     "data": {
      "text/plain": [
       "<BarContainer object of 9 artists>"
      ]
     },
     "execution_count": 7,
     "metadata": {},
     "output_type": "execute_result"
    },
    {
     "data": {
      "image/png": "[encoded data removed]",
      "text/plain": [
       "<Figure size 432x288 with 1 Axes>"
      ]
     },
     "metadata": {
      "needs_background": "light"
     },
     "output_type": "display_data"
    }
   ],
   "source": [
    "reduced_pca\n",
    "reduced_pca.shape\n",
    "pca.explained_variance_ratio_\n",
    "plt.bar(np.arange(0,9), pca.explained_variance_ratio_*100)"
   ]
  },
  {
   "cell_type": "code",
   "execution_count": 8,
   "metadata": {},
   "outputs": [
    {
     "data": {
      "text/plain": [
       "(768, 2)"
      ]
     },
     "execution_count": 8,
     "metadata": {},
     "output_type": "execute_result"
    }
   ],
   "source": [
    "pca=PCA(n_components=0.9)\n",
    "reduced_pca=pca.fit_transform(df)\n",
    "reduced_pca.shape #reduced the number of features to 2"
   ]
  },
  {
   "cell_type": "code",
   "execution_count": 9,
   "metadata": {},
   "outputs": [
    {
     "data": {
      "text/plain": [
       "<BarContainer object of 6 artists>"
      ]
     },
     "execution_count": 9,
     "metadata": {},
     "output_type": "execute_result"
    },
    {
     "data": {
      "image/png": "[encoded data removed]",
      "text/plain": [
       "<Figure size 432x288 with 1 Axes>"
      ]
     },
     "metadata": {
      "needs_background": "light"
     },
     "output_type": "display_data"
    }
   ],
   "source": [
    "pca=PCA(n_components=6)\n",
    "reduced_pca=pca.fit_transform(df)\n",
    "reduced_pca.shape\n",
    "plt.bar(np.arange(0,6), pca.explained_variance_ratio_*100)"
   ]
  },
  {
   "cell_type": "markdown",
   "metadata": {},
   "source": [
    "## KMeans\n",
    "Do clustering using KMeans on the original dataset (not the PCA) using K=2. Calculate Homogonity and Completeness score."
   ]
  },
  {
   "cell_type": "code",
   "execution_count": 10,
   "metadata": {},
   "outputs": [],
   "source": [
    "from sklearn.cluster import KMeans\n",
    "from sklearn.preprocessing import StandardScaler\n",
    "from sklearn.cluster import DBSCAN"
   ]
  },
  {
   "cell_type": "code",
   "execution_count": 11,
   "metadata": {},
   "outputs": [
    {
     "name": "stdout",
     "output_type": "stream",
     "text": [
      "[[  3.7030303  141.46060606  72.78787879  31.2        253.70909091\n",
      "   34.98545455   0.59724848  33.7030303    0.52121212]\n",
      " [  3.88391376 115.26699834  68.09784411  17.6185738   32.21227197\n",
      "   31.17363184   0.43757048  33.11442786   0.30182421]]\n"
     ]
    }
   ],
   "source": [
    "from sklearn.cluster import KMeans\n",
    "X = df.loc[:, df.columns != 'Outcome']\n",
    "y = df['Outcome']\n",
    "\n",
    "kmeans= KMeans(n_clusters=2)\n",
    "kmeans.fit(df)\n",
    "print(kmeans.cluster_centers_)"
   ]
  },
  {
   "cell_type": "code",
   "execution_count": 12,
   "metadata": {},
   "outputs": [],
   "source": [
    "y_pred=kmeans.fit_predict(df)"
   ]
  },
  {
   "cell_type": "code",
   "execution_count": 13,
   "metadata": {},
   "outputs": [
    {
     "name": "stdout",
     "output_type": "stream",
     "text": [
      "Homogeneit is 2.6659254297179364 percent\n"
     ]
    }
   ],
   "source": [
    "print('Homogeneit is',metrics.homogeneity_score(labels_true=y,labels_pred=y_pred)*100,'percent')"
   ]
  },
  {
   "cell_type": "code",
   "execution_count": 14,
   "metadata": {},
   "outputs": [
    {
     "name": "stdout",
     "output_type": "stream",
     "text": [
      "Completeness is 3.31406091804888 percent\n"
     ]
    }
   ],
   "source": [
    "print('Completeness is',metrics.completeness_score(labels_true=y, labels_pred=y_pred)*100,'percent')"
   ]
  },
  {
   "cell_type": "markdown",
   "metadata": {},
   "source": [
    "### Split the data\n",
    "Split the original dataset (not the PCA) to have 30% test data"
   ]
  },
  {
   "cell_type": "code",
   "execution_count": 15,
   "metadata": {},
   "outputs": [],
   "source": [
    "from sklearn.model_selection import train_test_split"
   ]
  },
  {
   "cell_type": "code",
   "execution_count": 16,
   "metadata": {},
   "outputs": [],
   "source": [
    "X= df.drop('Outcome', axis=1)\n",
    "y=df.Outcome"
   ]
  },
  {
   "cell_type": "code",
   "execution_count": 17,
   "metadata": {},
   "outputs": [],
   "source": [
    "X_train, X_test, y_train, y_test = train_test_split( X, y, test_size=0.30,random_state=42)"
   ]
  },
  {
   "cell_type": "markdown",
   "metadata": {},
   "source": [
    "### Logistic Regression\n",
    "Using LR, what is the accuracy, precision and recall and F1 score for the training and the test data? Plot the ROC curve"
   ]
  },
  {
   "cell_type": "code",
   "execution_count": 18,
   "metadata": {},
   "outputs": [],
   "source": [
    "from sklearn.linear_model import LogisticRegression\n",
    "logreg=LogisticRegression()"
   ]
  },
  {
   "cell_type": "code",
   "execution_count": 19,
   "metadata": {},
   "outputs": [
    {
     "name": "stderr",
     "output_type": "stream",
     "text": [
      "C:\\Users\\Pookie\\Anaconda3\\lib\\site-packages\\sklearn\\linear_model\\logistic.py:432: FutureWarning: Default solver will be changed to 'lbfgs' in 0.22. Specify a solver to silence this warning.\n",
      "  FutureWarning)\n"
     ]
    },
    {
     "data": {
      "text/plain": [
       "LogisticRegression(C=1.0, class_weight=None, dual=False, fit_intercept=True,\n",
       "                   intercept_scaling=1, l1_ratio=None, max_iter=100,\n",
       "                   multi_class='warn', n_jobs=None, penalty='l2',\n",
       "                   random_state=None, solver='warn', tol=0.0001, verbose=0,\n",
       "                   warm_start=False)"
      ]
     },
     "execution_count": 19,
     "metadata": {},
     "output_type": "execute_result"
    }
   ],
   "source": [
    "logreg.fit(X_train, y_train)"
   ]
  },
  {
   "cell_type": "code",
   "execution_count": 20,
   "metadata": {},
   "outputs": [
    {
     "name": "stdout",
     "output_type": "stream",
     "text": [
      "Training accuracy is  0.7821229050279329\n",
      "Testing accuracy is  0.7575757575757576\n"
     ]
    }
   ],
   "source": [
    "train_score = logreg.score(X_train, y_train)\n",
    "print('Training accuracy is ', train_score)\n",
    "test_score=logreg.score(X_test, y_test)\n",
    "print('Testing accuracy is ', test_score)"
   ]
  },
  {
   "cell_type": "code",
   "execution_count": 21,
   "metadata": {},
   "outputs": [],
   "source": [
    "pred=logreg.predict(X_test)\n",
    "prob=logreg.predict_proba(X_test)"
   ]
  },
  {
   "cell_type": "code",
   "execution_count": 22,
   "metadata": {},
   "outputs": [
    {
     "name": "stdout",
     "output_type": "stream",
     "text": [
      "[[0.66555474 0.33444526]\n",
      " [0.77634677 0.22365323]\n",
      " [0.80336856 0.19663144]\n",
      " [0.77919294 0.22080706]\n",
      " [0.55104201 0.44895799]\n",
      " [0.57766826 0.42233174]\n",
      " [0.94451754 0.05548246]\n",
      " [0.33756318 0.66243682]\n",
      " [0.4703799  0.5296201 ]\n",
      " [0.32350476 0.67649524]\n",
      " [0.68888925 0.31111075]\n",
      " [0.22204816 0.77795184]\n",
      " [0.534946   0.465054  ]\n",
      " [0.70635853 0.29364147]\n",
      " [0.86599693 0.13400307]\n",
      " [0.59891334 0.40108666]\n",
      " [0.82976388 0.17023612]\n",
      " [0.86602766 0.13397234]\n",
      " [0.12622393 0.87377607]\n",
      " [0.47699437 0.52300563]\n",
      " [0.73656585 0.26343415]\n",
      " [0.88110041 0.11889959]\n",
      " [0.53251735 0.46748265]\n",
      " [0.84272161 0.15727839]\n",
      " [0.47669974 0.52330026]\n",
      " [0.21804319 0.78195681]\n",
      " [0.79521007 0.20478993]\n",
      " [0.92111787 0.07888213]\n",
      " [0.74345584 0.25654416]\n",
      " [0.83434615 0.16565385]\n",
      " [0.22871859 0.77128141]\n",
      " [0.25319003 0.74680997]\n",
      " [0.27823091 0.72176909]\n",
      " [0.17468609 0.82531391]\n",
      " [0.54357129 0.45642871]\n",
      " [0.37942018 0.62057982]\n",
      " [0.13373877 0.86626123]\n",
      " [0.78631196 0.21368804]\n",
      " [0.51730197 0.48269803]\n",
      " [0.25471009 0.74528991]\n",
      " [0.86397615 0.13602385]\n",
      " [0.45390569 0.54609431]\n",
      " [0.53523233 0.46476767]\n",
      " [0.62006204 0.37993796]\n",
      " [0.92988392 0.07011608]\n",
      " [0.49978017 0.50021983]\n",
      " [0.50053245 0.49946755]\n",
      " [0.75745539 0.24254461]\n",
      " [0.63069544 0.36930456]\n",
      " [0.13243451 0.86756549]\n",
      " [0.89195916 0.10804084]\n",
      " [0.42472633 0.57527367]\n",
      " [0.26703141 0.73296859]\n",
      " [0.69092543 0.30907457]\n",
      " [0.79057018 0.20942982]\n",
      " [0.91437755 0.08562245]\n",
      " [0.29707891 0.70292109]\n",
      " [0.9509786  0.0490214 ]\n",
      " [0.62178247 0.37821753]\n",
      " [0.28553116 0.71446884]\n",
      " [0.361777   0.638223  ]\n",
      " [0.65365472 0.34634528]\n",
      " [0.71103402 0.28896598]\n",
      " [0.68248554 0.31751446]\n",
      " [0.88314496 0.11685504]\n",
      " [0.5211326  0.4788674 ]\n",
      " [0.89773205 0.10226795]\n",
      " [0.41819213 0.58180787]\n",
      " [0.9158762  0.0841238 ]\n",
      " [0.28711146 0.71288854]\n",
      " [0.34613742 0.65386258]\n",
      " [0.89235746 0.10764254]\n",
      " [0.74756017 0.25243983]\n",
      " [0.85468886 0.14531114]\n",
      " [0.82397068 0.17602932]\n",
      " [0.64998413 0.35001587]\n",
      " [0.79231603 0.20768397]\n",
      " [0.80586156 0.19413844]\n",
      " [0.79245064 0.20754936]\n",
      " [0.74166326 0.25833674]\n",
      " [0.36245113 0.63754887]\n",
      " [0.80854222 0.19145778]\n",
      " [0.889907   0.110093  ]\n",
      " [0.66657417 0.33342583]\n",
      " [0.70103021 0.29896979]\n",
      " [0.21882328 0.78117672]\n",
      " [0.2377715  0.7622285 ]\n",
      " [0.65792314 0.34207686]\n",
      " [0.82435646 0.17564354]\n",
      " [0.84484019 0.15515981]\n",
      " [0.87568866 0.12431134]\n",
      " [0.73894574 0.26105426]\n",
      " [0.96092289 0.03907711]\n",
      " [0.33837132 0.66162868]\n",
      " [0.48375182 0.51624818]\n",
      " [0.49207361 0.50792639]\n",
      " [0.57039254 0.42960746]\n",
      " [0.82978483 0.17021517]\n",
      " [0.34840324 0.65159676]\n",
      " [0.87210561 0.12789439]\n",
      " [0.4013088  0.5986912 ]\n",
      " [0.91102034 0.08897966]\n",
      " [0.33425943 0.66574057]\n",
      " [0.51206619 0.48793381]\n",
      " [0.42193669 0.57806331]\n",
      " [0.75792421 0.24207579]\n",
      " [0.66693853 0.33306147]\n",
      " [0.35225497 0.64774503]\n",
      " [0.86051374 0.13948626]\n",
      " [0.58490465 0.41509535]\n",
      " [0.8358073  0.1641927 ]\n",
      " [0.62131121 0.37868879]\n",
      " [0.87947176 0.12052824]\n",
      " [0.36295745 0.63704255]\n",
      " [0.76799033 0.23200967]\n",
      " [0.65472857 0.34527143]\n",
      " [0.31230893 0.68769107]\n",
      " [0.71843307 0.28156693]\n",
      " [0.8727883  0.1272117 ]\n",
      " [0.31193726 0.68806274]\n",
      " [0.8649781  0.1350219 ]\n",
      " [0.73118218 0.26881782]\n",
      " [0.72026266 0.27973734]\n",
      " [0.87550402 0.12449598]\n",
      " [0.63440269 0.36559731]\n",
      " [0.5965452  0.4034548 ]\n",
      " [0.80547347 0.19452653]\n",
      " [0.23048008 0.76951992]\n",
      " [0.05590055 0.94409945]\n",
      " [0.41517538 0.58482462]\n",
      " [0.30606556 0.69393444]\n",
      " [0.21408596 0.78591404]\n",
      " [0.83001053 0.16998947]\n",
      " [0.55978068 0.44021932]\n",
      " [0.28222161 0.71777839]\n",
      " [0.82052688 0.17947312]\n",
      " [0.76811908 0.23188092]\n",
      " [0.26598164 0.73401836]\n",
      " [0.30652619 0.69347381]\n",
      " [0.95568435 0.04431565]\n",
      " [0.83915777 0.16084223]\n",
      " [0.8987867  0.1012133 ]\n",
      " [0.7179468  0.2820532 ]\n",
      " [0.52891421 0.47108579]\n",
      " [0.81017813 0.18982187]\n",
      " [0.72017809 0.27982191]\n",
      " [0.83679811 0.16320189]\n",
      " [0.93407997 0.06592003]\n",
      " [0.63492436 0.36507564]\n",
      " [0.32213352 0.67786648]\n",
      " [0.84765662 0.15234338]\n",
      " [0.56148052 0.43851948]\n",
      " [0.65812795 0.34187205]\n",
      " [0.78617454 0.21382546]\n",
      " [0.94833584 0.05166416]\n",
      " [0.61280749 0.38719251]\n",
      " [0.60020877 0.39979123]\n",
      " [0.37392279 0.62607721]\n",
      " [0.34806278 0.65193722]\n",
      " [0.77934796 0.22065204]\n",
      " [0.34853015 0.65146985]\n",
      " [0.35597302 0.64402698]\n",
      " [0.7537531  0.2462469 ]\n",
      " [0.94141926 0.05858074]\n",
      " [0.82196529 0.17803471]\n",
      " [0.22321349 0.77678651]\n",
      " [0.90284809 0.09715191]\n",
      " [0.67027098 0.32972902]\n",
      " [0.26505751 0.73494249]\n",
      " [0.45100491 0.54899509]\n",
      " [0.3845098  0.6154902 ]\n",
      " [0.77641812 0.22358188]\n",
      " [0.61182306 0.38817694]\n",
      " [0.44654709 0.55345291]\n",
      " [0.4165063  0.5834937 ]\n",
      " [0.87479566 0.12520434]\n",
      " [0.64209419 0.35790581]\n",
      " [0.70108657 0.29891343]\n",
      " [0.72829593 0.27170407]\n",
      " [0.70692324 0.29307676]\n",
      " [0.4681138  0.5318862 ]\n",
      " [0.49806572 0.50193428]\n",
      " [0.61522636 0.38477364]\n",
      " [0.41706298 0.58293702]\n",
      " [0.4869936  0.5130064 ]\n",
      " [0.85767243 0.14232757]\n",
      " [0.91230537 0.08769463]\n",
      " [0.82518936 0.17481064]\n",
      " [0.22827791 0.77172209]\n",
      " [0.61066246 0.38933754]\n",
      " [0.86376207 0.13623793]\n",
      " [0.84651736 0.15348264]\n",
      " [0.11757881 0.88242119]\n",
      " [0.70738868 0.29261132]\n",
      " [0.89398011 0.10601989]\n",
      " [0.89630236 0.10369764]\n",
      " [0.97792488 0.02207512]\n",
      " [0.85198371 0.14801629]\n",
      " [0.72960436 0.27039564]\n",
      " [0.3499595  0.6500405 ]\n",
      " [0.78967241 0.21032759]\n",
      " [0.84672099 0.15327901]\n",
      " [0.67268917 0.32731083]\n",
      " [0.66260139 0.33739861]\n",
      " [0.42117608 0.57882392]\n",
      " [0.85913955 0.14086045]\n",
      " [0.83401915 0.16598085]\n",
      " [0.75938233 0.24061767]\n",
      " [0.16277633 0.83722367]\n",
      " [0.42973064 0.57026936]\n",
      " [0.68656427 0.31343573]\n",
      " [0.76313679 0.23686321]\n",
      " [0.77538413 0.22461587]\n",
      " [0.81969632 0.18030368]\n",
      " [0.37598772 0.62401228]\n",
      " [0.82313155 0.17686845]\n",
      " [0.3188749  0.6811251 ]\n",
      " [0.66497843 0.33502157]\n",
      " [0.64792938 0.35207062]\n",
      " [0.18520045 0.81479955]\n",
      " [0.42658008 0.57341992]\n",
      " [0.84180482 0.15819518]\n",
      " [0.84282487 0.15717513]\n",
      " [0.78846504 0.21153496]\n",
      " [0.84743653 0.15256347]\n",
      " [0.23465346 0.76534654]\n",
      " [0.50298588 0.49701412]\n",
      " [0.69450265 0.30549735]\n",
      " [0.70557854 0.29442146]\n",
      " [0.74774676 0.25225324]\n",
      " [0.85901651 0.14098349]]\n",
      "[0 0 0 0 0 0 0 1 1 1 0 1 0 0 0 0 0 0 1 1 0 0 0 0 1 1 0 0 0 0 1 1 1 1 0 1 1\n",
      " 0 0 1 0 1 0 0 0 1 0 0 0 1 0 1 1 0 0 0 1 0 0 1 1 0 0 0 0 0 0 1 0 1 1 0 0 0\n",
      " 0 0 0 0 0 0 1 0 0 0 0 1 1 0 0 0 0 0 0 1 1 1 0 0 1 0 1 0 1 0 1 0 0 1 0 0 0\n",
      " 0 0 1 0 0 1 0 0 1 0 0 0 0 0 0 0 1 1 1 1 1 0 0 1 0 0 1 1 0 0 0 0 0 0 0 0 0\n",
      " 0 1 0 0 0 0 0 0 0 1 1 0 1 1 0 0 0 1 0 0 1 1 1 0 0 1 1 0 0 0 0 0 1 1 0 1 1\n",
      " 0 0 0 1 0 0 0 1 0 0 0 0 0 0 1 0 0 0 0 1 0 0 0 1 1 0 0 0 0 1 0 1 0 0 1 1 0\n",
      " 0 0 0 1 0 0 0 0 0]\n"
     ]
    }
   ],
   "source": [
    "print(prob)\n",
    "print(pred)"
   ]
  },
  {
   "cell_type": "code",
   "execution_count": 23,
   "metadata": {},
   "outputs": [
    {
     "name": "stdout",
     "output_type": "stream",
     "text": [
      "              precision    recall  f1-score   support\n",
      "\n",
      "           0       0.80      0.83      0.82       151\n",
      "           1       0.66      0.61      0.64        80\n",
      "\n",
      "    accuracy                           0.76       231\n",
      "   macro avg       0.73      0.72      0.73       231\n",
      "weighted avg       0.75      0.76      0.76       231\n",
      "\n",
      "[[126  25]\n",
      " [ 31  49]]\n"
     ]
    }
   ],
   "source": [
    "pred_test=logreg.predict(X_test)\n",
    "from sklearn.metrics import classification_report, confusion_matrix\n",
    "cr=classification_report(y_test, pred_test)\n",
    "print(cr)\n",
    "cm = confusion_matrix(y_test, pred_test)\n",
    "print(cm)"
   ]
  },
  {
   "cell_type": "code",
   "execution_count": 24,
   "metadata": {},
   "outputs": [
    {
     "name": "stdout",
     "output_type": "stream",
     "text": [
      "Area under the curve is 0.805794701986755\n"
     ]
    },
    {
     "data": {
      "image/png": "[encoded data removed]",
      "text/plain": [
       "<Figure size 432x288 with 1 Axes>"
      ]
     },
     "metadata": {
      "needs_background": "light"
     },
     "output_type": "display_data"
    }
   ],
   "source": [
    "fpr,tpr,thre= metrics.roc_curve(y_test, prob[:,1])\n",
    "plt.plot(fpr, tpr)\n",
    "print('Area under the curve is',metrics.auc(fpr,tpr))"
   ]
  },
  {
   "cell_type": "markdown",
   "metadata": {},
   "source": [
    "plot the test precision curve and accuracy curve for decision thresholds between 0.1 to 1 with a step of 0.1"
   ]
  },
  {
   "cell_type": "code",
   "execution_count": 25,
   "metadata": {},
   "outputs": [
    {
     "name": "stderr",
     "output_type": "stream",
     "text": [
      "C:\\Users\\Pookie\\Anaconda3\\lib\\site-packages\\sklearn\\metrics\\classification.py:1437: UndefinedMetricWarning: Precision is ill-defined and being set to 0.0 due to no predicted samples.\n",
      "  'precision', 'predicted', average, warn_for)\n"
     ]
    },
    {
     "data": {
      "text/plain": [
       "0.6536796536796536"
      ]
     },
     "execution_count": 25,
     "metadata": {},
     "output_type": "execute_result"
    },
    {
     "data": {
      "image/png": "[encoded data removed]",
      "text/plain": [
       "<Figure size 432x288 with 1 Axes>"
      ]
     },
     "metadata": {
      "needs_background": "light"
     },
     "output_type": "display_data"
    }
   ],
   "source": [
    "from sklearn import metrics\n",
    "threshold= np.linspace(0.1,1,10)\n",
    "precision_list= []\n",
    "accuracy_list=[]\n",
    "prob=logreg.predict_proba(X_test)\n",
    "for i in threshold:\n",
    "    my_pred = prob[:,1]>=i\n",
    "    precision_list.append(metrics.precision_score(y_test, my_pred))\n",
    "    accuracy_list.append(metrics.accuracy_score(y_test, my_pred))\n",
    "plt.plot(threshold, precision_list)\n",
    "plt.plot(threshold, accuracy_list, c=\"r\")\n",
    "plt.legend(['Precision','accuracy'],loc='upper left')\n",
    "metrics.accuracy_score(y_test,my_pred)"
   ]
  },
  {
   "cell_type": "markdown",
   "metadata": {},
   "source": [
    "## Deep Neural Networks\n",
    "Using Keras, build a DNN that has better accuracy than LR. What is the accuracy, precision and recall and F1 score for the training and the test data? Plot the ROC curve?"
   ]
  },
  {
   "cell_type": "code",
   "execution_count": 26,
   "metadata": {},
   "outputs": [
    {
     "name": "stdout",
     "output_type": "stream",
     "text": [
      "WARNING:tensorflow:Falling back from v2 loop because of error: Failed to find data adapter that can handle input: <class 'pandas.core.frame.DataFrame'>, <class 'NoneType'>\n",
      "Train on 768 samples\n",
      "Epoch 1/200\n",
      "768/768 [==============================] - 0s 184us/sample - loss: 1.1285 - accuracy: 0.5990\n",
      "Epoch 2/200\n",
      "768/768 [==============================] - 0s 113us/sample - loss: 1.0108 - accuracy: 0.6276\n",
      "Epoch 3/200\n",
      "768/768 [==============================] - 0s 119us/sample - loss: 0.7268 - accuracy: 0.6471\n",
      "Epoch 4/200\n",
      "768/768 [==============================] - 0s 114us/sample - loss: 0.7267 - accuracy: 0.6576\n",
      "Epoch 5/200\n",
      "768/768 [==============================] - 0s 116us/sample - loss: 0.6854 - accuracy: 0.6536\n",
      "Epoch 6/200\n",
      "768/768 [==============================] - 0s 118us/sample - loss: 0.7253 - accuracy: 0.6641\n",
      "Epoch 7/200\n",
      "768/768 [==============================] - 0s 121us/sample - loss: 0.6462 - accuracy: 0.6862\n",
      "Epoch 8/200\n",
      "768/768 [==============================] - 0s 116us/sample - loss: 0.6524 - accuracy: 0.6745\n",
      "Epoch 9/200\n",
      "768/768 [==============================] - 0s 112us/sample - loss: 0.6160 - accuracy: 0.7005\n",
      "Epoch 10/200\n",
      "768/768 [==============================] - ETA: 0s - loss: 0.5809 - accuracy: 0.70 - 0s 119us/sample - loss: 0.5805 - accuracy: 0.7148\n",
      "Epoch 11/200\n",
      "768/768 [==============================] - 0s 131us/sample - loss: 0.6091 - accuracy: 0.6888\n",
      "Epoch 12/200\n",
      "768/768 [==============================] - 0s 116us/sample - loss: 0.5831 - accuracy: 0.7018\n",
      "Epoch 13/200\n",
      "768/768 [==============================] - 0s 121us/sample - loss: 0.5796 - accuracy: 0.6979\n",
      "Epoch 14/200\n",
      "768/768 [==============================] - 0s 121us/sample - loss: 0.5807 - accuracy: 0.6966\n",
      "Epoch 15/200\n",
      "768/768 [==============================] - 0s 116us/sample - loss: 0.5827 - accuracy: 0.7109\n",
      "Epoch 16/200\n",
      "768/768 [==============================] - 0s 117us/sample - loss: 0.5578 - accuracy: 0.7240\n",
      "Epoch 17/200\n",
      "768/768 [==============================] - 0s 131us/sample - loss: 0.5626 - accuracy: 0.7188\n",
      "Epoch 18/200\n",
      "768/768 [==============================] - 0s 118us/sample - loss: 0.5697 - accuracy: 0.7070\n",
      "Epoch 19/200\n",
      "768/768 [==============================] - 0s 114us/sample - loss: 0.5537 - accuracy: 0.7214\n",
      "Epoch 20/200\n",
      "768/768 [==============================] - 0s 122us/sample - loss: 0.5397 - accuracy: 0.7435 - loss: 0.5442 - accuracy: 0.74\n",
      "Epoch 21/200\n",
      "768/768 [==============================] - 0s 119us/sample - loss: 0.5507 - accuracy: 0.7227\n",
      "Epoch 22/200\n",
      "768/768 [==============================] - ETA: 0s - loss: 0.5313 - accuracy: 0.74 - 0s 112us/sample - loss: 0.5587 - accuracy: 0.7188\n",
      "Epoch 23/200\n",
      "768/768 [==============================] - 0s 120us/sample - loss: 0.5561 - accuracy: 0.7279\n",
      "Epoch 24/200\n",
      "768/768 [==============================] - 0s 116us/sample - loss: 0.5292 - accuracy: 0.7305\n",
      "Epoch 25/200\n",
      "768/768 [==============================] - 0s 125us/sample - loss: 0.5384 - accuracy: 0.7383\n",
      "Epoch 26/200\n",
      "768/768 [==============================] - ETA: 0s - loss: 0.5661 - accuracy: 0.69 - 0s 121us/sample - loss: 0.5371 - accuracy: 0.7240\n",
      "Epoch 27/200\n",
      "768/768 [==============================] - 0s 116us/sample - loss: 0.5276 - accuracy: 0.7409\n",
      "Epoch 28/200\n",
      "768/768 [==============================] - 0s 121us/sample - loss: 0.5290 - accuracy: 0.7617\n",
      "Epoch 29/200\n",
      "768/768 [==============================] - 0s 117us/sample - loss: 0.5362 - accuracy: 0.7474\n",
      "Epoch 30/200\n",
      "768/768 [==============================] - 0s 167us/sample - loss: 0.5383 - accuracy: 0.7344\n",
      "Epoch 31/200\n",
      "768/768 [==============================] - 0s 165us/sample - loss: 0.5287 - accuracy: 0.7331\n",
      "Epoch 32/200\n",
      "768/768 [==============================] - 0s 125us/sample - loss: 0.5274 - accuracy: 0.7448\n",
      "Epoch 33/200\n",
      "768/768 [==============================] - 0s 126us/sample - loss: 0.5381 - accuracy: 0.7214\n",
      "Epoch 34/200\n",
      "768/768 [==============================] - 0s 123us/sample - loss: 0.5266 - accuracy: 0.7552\n",
      "Epoch 35/200\n",
      "768/768 [==============================] - 0s 123us/sample - loss: 0.5199 - accuracy: 0.7526\n",
      "Epoch 36/200\n",
      "768/768 [==============================] - 0s 130us/sample - loss: 0.5398 - accuracy: 0.7383\n",
      "Epoch 37/200\n",
      "768/768 [==============================] - 0s 125us/sample - loss: 0.5209 - accuracy: 0.7461\n",
      "Epoch 38/200\n",
      "768/768 [==============================] - 0s 129us/sample - loss: 0.5350 - accuracy: 0.7279\n",
      "Epoch 39/200\n",
      "768/768 [==============================] - 0s 125us/sample - loss: 0.5103 - accuracy: 0.7357\n",
      "Epoch 40/200\n",
      "768/768 [==============================] - 0s 123us/sample - loss: 0.5149 - accuracy: 0.7513\n",
      "Epoch 41/200\n",
      "768/768 [==============================] - 0s 196us/sample - loss: 0.5083 - accuracy: 0.7552\n",
      "Epoch 42/200\n",
      "768/768 [==============================] - 0s 201us/sample - loss: 0.5210 - accuracy: 0.7331\n",
      "Epoch 43/200\n",
      "768/768 [==============================] - 0s 114us/sample - loss: 0.4964 - accuracy: 0.7448\n",
      "Epoch 44/200\n",
      "768/768 [==============================] - 0s 121us/sample - loss: 0.5102 - accuracy: 0.7370\n",
      "Epoch 45/200\n",
      "768/768 [==============================] - 0s 119us/sample - loss: 0.5027 - accuracy: 0.7474\n",
      "Epoch 46/200\n",
      "768/768 [==============================] - 0s 126us/sample - loss: 0.5054 - accuracy: 0.7435\n",
      "Epoch 47/200\n",
      "768/768 [==============================] - 0s 121us/sample - loss: 0.4900 - accuracy: 0.7565\n",
      "Epoch 48/200\n",
      "768/768 [==============================] - 0s 173us/sample - loss: 0.5034 - accuracy: 0.7513\n",
      "Epoch 49/200\n",
      "768/768 [==============================] - 0s 127us/sample - loss: 0.4975 - accuracy: 0.7500\n",
      "Epoch 50/200\n",
      "768/768 [==============================] - 0s 118us/sample - loss: 0.5005 - accuracy: 0.7604\n",
      "Epoch 51/200\n",
      "768/768 [==============================] - 0s 136us/sample - loss: 0.4898 - accuracy: 0.7747\n",
      "Epoch 52/200\n",
      "768/768 [==============================] - 0s 116us/sample - loss: 0.4941 - accuracy: 0.7539\n",
      "Epoch 53/200\n",
      "768/768 [==============================] - 0s 108us/sample - loss: 0.4946 - accuracy: 0.7500\n",
      "Epoch 54/200\n",
      "768/768 [==============================] - 0s 101us/sample - loss: 0.5047 - accuracy: 0.7357\n",
      "Epoch 55/200\n",
      "768/768 [==============================] - 0s 109us/sample - loss: 0.5014 - accuracy: 0.7526\n",
      "Epoch 56/200\n",
      "768/768 [==============================] - 0s 107us/sample - loss: 0.4871 - accuracy: 0.7682\n",
      "Epoch 57/200\n",
      "768/768 [==============================] - 0s 108us/sample - loss: 0.4807 - accuracy: 0.7617\n",
      "Epoch 58/200\n",
      "768/768 [==============================] - 0s 110us/sample - loss: 0.4875 - accuracy: 0.7526\n",
      "Epoch 59/200\n",
      "768/768 [==============================] - 0s 109us/sample - loss: 0.4886 - accuracy: 0.7539\n",
      "Epoch 60/200\n",
      "768/768 [==============================] - 0s 110us/sample - loss: 0.4876 - accuracy: 0.7669\n",
      "Epoch 61/200\n",
      "768/768 [==============================] - 0s 157us/sample - loss: 0.4628 - accuracy: 0.7839\n",
      "Epoch 62/200\n",
      "768/768 [==============================] - 0s 213us/sample - loss: 0.4806 - accuracy: 0.7669\n",
      "Epoch 63/200\n",
      "768/768 [==============================] - 0s 127us/sample - loss: 0.4766 - accuracy: 0.7721\n",
      "Epoch 64/200\n",
      "768/768 [==============================] - 0s 113us/sample - loss: 0.4709 - accuracy: 0.7578\n",
      "Epoch 65/200\n",
      "768/768 [==============================] - 0s 142us/sample - loss: 0.4714 - accuracy: 0.7526\n",
      "Epoch 66/200\n",
      "768/768 [==============================] - 0s 165us/sample - loss: 0.4664 - accuracy: 0.7695\n",
      "Epoch 67/200\n",
      "768/768 [==============================] - 0s 126us/sample - loss: 0.4706 - accuracy: 0.7578\n",
      "Epoch 68/200\n",
      "768/768 [==============================] - 0s 112us/sample - loss: 0.4580 - accuracy: 0.7799\n",
      "Epoch 69/200\n",
      "768/768 [==============================] - 0s 118us/sample - loss: 0.4605 - accuracy: 0.7930\n",
      "Epoch 70/200\n",
      "768/768 [==============================] - 0s 117us/sample - loss: 0.4483 - accuracy: 0.7930\n",
      "Epoch 71/200\n",
      "768/768 [==============================] - 0s 116us/sample - loss: 0.4703 - accuracy: 0.7695\n",
      "Epoch 72/200\n",
      "768/768 [==============================] - 0s 117us/sample - loss: 0.4615 - accuracy: 0.7760\n",
      "Epoch 73/200\n",
      "768/768 [==============================] - 0s 127us/sample - loss: 0.4488 - accuracy: 0.7812\n",
      "Epoch 74/200\n",
      "768/768 [==============================] - 0s 123us/sample - loss: 0.4506 - accuracy: 0.7865\n",
      "Epoch 75/200\n"
     ]
    },
    {
     "name": "stdout",
     "output_type": "stream",
     "text": [
      "768/768 [==============================] - 0s 113us/sample - loss: 0.4640 - accuracy: 0.7786\n",
      "Epoch 76/200\n",
      "768/768 [==============================] - 0s 110us/sample - loss: 0.4628 - accuracy: 0.7773\n",
      "Epoch 77/200\n",
      "768/768 [==============================] - 0s 110us/sample - loss: 0.4401 - accuracy: 0.7865\n",
      "Epoch 78/200\n",
      "768/768 [==============================] - 0s 121us/sample - loss: 0.4442 - accuracy: 0.7969\n",
      "Epoch 79/200\n",
      "768/768 [==============================] - 0s 112us/sample - loss: 0.4480 - accuracy: 0.7826\n",
      "Epoch 80/200\n",
      "768/768 [==============================] - 0s 112us/sample - loss: 0.4660 - accuracy: 0.7760\n",
      "Epoch 81/200\n",
      "768/768 [==============================] - 0s 121us/sample - loss: 0.4573 - accuracy: 0.7812\n",
      "Epoch 82/200\n",
      "768/768 [==============================] - 0s 119us/sample - loss: 0.4310 - accuracy: 0.7943\n",
      "Epoch 83/200\n",
      "768/768 [==============================] - 0s 116us/sample - loss: 0.4376 - accuracy: 0.7852\n",
      "Epoch 84/200\n",
      "768/768 [==============================] - 0s 113us/sample - loss: 0.4268 - accuracy: 0.7930\n",
      "Epoch 85/200\n",
      "768/768 [==============================] - 0s 110us/sample - loss: 0.4550 - accuracy: 0.7656\n",
      "Epoch 86/200\n",
      "768/768 [==============================] - 0s 116us/sample - loss: 0.4260 - accuracy: 0.7956\n",
      "Epoch 87/200\n",
      "768/768 [==============================] - 0s 112us/sample - loss: 0.4309 - accuracy: 0.7969\n",
      "Epoch 88/200\n",
      "768/768 [==============================] - 0s 112us/sample - loss: 0.4195 - accuracy: 0.8073\n",
      "Epoch 89/200\n",
      "768/768 [==============================] - 0s 116us/sample - loss: 0.4417 - accuracy: 0.7943\n",
      "Epoch 90/200\n",
      "768/768 [==============================] - 0s 112us/sample - loss: 0.4226 - accuracy: 0.7943\n",
      "Epoch 91/200\n",
      "768/768 [==============================] - 0s 113us/sample - loss: 0.4340 - accuracy: 0.7852\n",
      "Epoch 92/200\n",
      "768/768 [==============================] - 0s 121us/sample - loss: 0.4263 - accuracy: 0.8060\n",
      "Epoch 93/200\n",
      "768/768 [==============================] - 0s 119us/sample - loss: 0.4177 - accuracy: 0.7943\n",
      "Epoch 94/200\n",
      "768/768 [==============================] - 0s 123us/sample - loss: 0.4208 - accuracy: 0.8138\n",
      "Epoch 95/200\n",
      "768/768 [==============================] - 0s 196us/sample - loss: 0.4117 - accuracy: 0.8073\n",
      "Epoch 96/200\n",
      "768/768 [==============================] - 0s 151us/sample - loss: 0.4165 - accuracy: 0.8086\n",
      "Epoch 97/200\n",
      "768/768 [==============================] - 0s 112us/sample - loss: 0.4095 - accuracy: 0.8086\n",
      "Epoch 98/200\n",
      "768/768 [==============================] - 0s 110us/sample - loss: 0.3997 - accuracy: 0.8021\n",
      "Epoch 99/200\n",
      "768/768 [==============================] - 0s 126us/sample - loss: 0.4070 - accuracy: 0.8177\n",
      "Epoch 100/200\n",
      "768/768 [==============================] - 0s 114us/sample - loss: 0.4012 - accuracy: 0.8073\n",
      "Epoch 101/200\n",
      "768/768 [==============================] - 0s 118us/sample - loss: 0.3983 - accuracy: 0.8229\n",
      "Epoch 102/200\n",
      "768/768 [==============================] - 0s 114us/sample - loss: 0.3989 - accuracy: 0.8086\n",
      "Epoch 103/200\n",
      "768/768 [==============================] - 0s 122us/sample - loss: 0.4053 - accuracy: 0.8086\n",
      "Epoch 104/200\n",
      "768/768 [==============================] - 0s 158us/sample - loss: 0.4047 - accuracy: 0.8125\n",
      "Epoch 105/200\n",
      "768/768 [==============================] - 0s 153us/sample - loss: 0.3887 - accuracy: 0.8164\n",
      "Epoch 106/200\n",
      "768/768 [==============================] - 0s 119us/sample - loss: 0.3924 - accuracy: 0.8138\n",
      "Epoch 107/200\n",
      "768/768 [==============================] - 0s 129us/sample - loss: 0.3986 - accuracy: 0.8203\n",
      "Epoch 108/200\n",
      "768/768 [==============================] - 0s 132us/sample - loss: 0.3924 - accuracy: 0.8216\n",
      "Epoch 109/200\n",
      "768/768 [==============================] - 0s 132us/sample - loss: 0.3764 - accuracy: 0.8151\n",
      "Epoch 110/200\n",
      "768/768 [==============================] - 0s 122us/sample - loss: 0.3933 - accuracy: 0.8190\n",
      "Epoch 111/200\n",
      "768/768 [==============================] - ETA: 0s - loss: 0.3936 - accuracy: 0.82 - 0s 125us/sample - loss: 0.3889 - accuracy: 0.8164\n",
      "Epoch 112/200\n",
      "768/768 [==============================] - 0s 113us/sample - loss: 0.3536 - accuracy: 0.8411\n",
      "Epoch 113/200\n",
      "768/768 [==============================] - 0s 194us/sample - loss: 0.4038 - accuracy: 0.8073\n",
      "Epoch 114/200\n",
      "768/768 [==============================] - 0s 177us/sample - loss: 0.3714 - accuracy: 0.8307\n",
      "Epoch 115/200\n",
      "768/768 [==============================] - 0s 136us/sample - loss: 0.3676 - accuracy: 0.8372\n",
      "Epoch 116/200\n",
      "768/768 [==============================] - 0s 266us/sample - loss: 0.3598 - accuracy: 0.8333\n",
      "Epoch 117/200\n",
      "768/768 [==============================] - 0s 117us/sample - loss: 0.3719 - accuracy: 0.8190\n",
      "Epoch 118/200\n",
      "768/768 [==============================] - 0s 187us/sample - loss: 0.3705 - accuracy: 0.8320 - loss: 0.3753 - accuracy: 0.\n",
      "Epoch 119/200\n",
      "768/768 [==============================] - 0s 164us/sample - loss: 0.3602 - accuracy: 0.8281\n",
      "Epoch 120/200\n",
      "768/768 [==============================] - 0s 136us/sample - loss: 0.3633 - accuracy: 0.8294\n",
      "Epoch 121/200\n",
      "768/768 [==============================] - 0s 117us/sample - loss: 0.3740 - accuracy: 0.8177\n",
      "Epoch 122/200\n",
      "768/768 [==============================] - 0s 121us/sample - loss: 0.3641 - accuracy: 0.8333\n",
      "Epoch 123/200\n",
      "768/768 [==============================] - 0s 117us/sample - loss: 0.3683 - accuracy: 0.8320\n",
      "Epoch 124/200\n",
      "768/768 [==============================] - 0s 112us/sample - loss: 0.3623 - accuracy: 0.8346\n",
      "Epoch 125/200\n",
      "768/768 [==============================] - 0s 109us/sample - loss: 0.3590 - accuracy: 0.8268\n",
      "Epoch 126/200\n",
      "768/768 [==============================] - 0s 113us/sample - loss: 0.3460 - accuracy: 0.8359\n",
      "Epoch 127/200\n",
      "768/768 [==============================] - 0s 127us/sample - loss: 0.3511 - accuracy: 0.8398\n",
      "Epoch 128/200\n",
      "768/768 [==============================] - 0s 121us/sample - loss: 0.3565 - accuracy: 0.8503\n",
      "Epoch 129/200\n",
      "768/768 [==============================] - 0s 122us/sample - loss: 0.3378 - accuracy: 0.8411 - loss: 0.3339 - accuracy: 0.85\n",
      "Epoch 130/200\n",
      "768/768 [==============================] - 0s 119us/sample - loss: 0.3653 - accuracy: 0.8372\n",
      "Epoch 131/200\n",
      "768/768 [==============================] - 0s 109us/sample - loss: 0.3218 - accuracy: 0.8581\n",
      "Epoch 132/200\n",
      "768/768 [==============================] - 0s 122us/sample - loss: 0.3410 - accuracy: 0.8542\n",
      "Epoch 133/200\n",
      "768/768 [==============================] - 0s 101us/sample - loss: 0.3455 - accuracy: 0.8398\n",
      "Epoch 134/200\n",
      "768/768 [==============================] - 0s 109us/sample - loss: 0.3371 - accuracy: 0.8411\n",
      "Epoch 135/200\n",
      "768/768 [==============================] - 0s 117us/sample - loss: 0.3151 - accuracy: 0.8633\n",
      "Epoch 136/200\n",
      "768/768 [==============================] - 0s 122us/sample - loss: 0.3116 - accuracy: 0.8581\n",
      "Epoch 137/200\n",
      "768/768 [==============================] - 0s 118us/sample - loss: 0.3102 - accuracy: 0.8724\n",
      "Epoch 138/200\n",
      "768/768 [==============================] - 0s 116us/sample - loss: 0.3213 - accuracy: 0.8372\n",
      "Epoch 139/200\n",
      "768/768 [==============================] - 0s 118us/sample - loss: 0.3278 - accuracy: 0.8464\n",
      "Epoch 140/200\n",
      "768/768 [==============================] - 0s 123us/sample - loss: 0.3367 - accuracy: 0.8398\n",
      "Epoch 141/200\n",
      "768/768 [==============================] - 0s 145us/sample - loss: 0.3265 - accuracy: 0.8503\n",
      "Epoch 142/200\n",
      "768/768 [==============================] - 0s 143us/sample - loss: 0.3260 - accuracy: 0.8529\n",
      "Epoch 143/200\n",
      "768/768 [==============================] - 0s 138us/sample - loss: 0.3052 - accuracy: 0.8685\n",
      "Epoch 144/200\n",
      "768/768 [==============================] - 0s 109us/sample - loss: 0.3201 - accuracy: 0.8646\n",
      "Epoch 145/200\n",
      "768/768 [==============================] - 0s 123us/sample - loss: 0.3287 - accuracy: 0.8411\n",
      "Epoch 146/200\n",
      "768/768 [==============================] - 0s 188us/sample - loss: 0.3003 - accuracy: 0.8594\n",
      "Epoch 147/200\n",
      "768/768 [==============================] - 0s 144us/sample - loss: 0.3107 - accuracy: 0.8477\n",
      "Epoch 148/200\n",
      "768/768 [==============================] - 0s 134us/sample - loss: 0.3165 - accuracy: 0.8607\n",
      "Epoch 149/200\n",
      "768/768 [==============================] - 0s 105us/sample - loss: 0.3032 - accuracy: 0.8594\n",
      "Epoch 150/200\n",
      "768/768 [==============================] - 0s 116us/sample - loss: 0.3179 - accuracy: 0.8594\n"
     ]
    },
    {
     "name": "stdout",
     "output_type": "stream",
     "text": [
      "Epoch 151/200\n",
      "768/768 [==============================] - 0s 125us/sample - loss: 0.3119 - accuracy: 0.8633\n",
      "Epoch 152/200\n",
      "768/768 [==============================] - 0s 113us/sample - loss: 0.3468 - accuracy: 0.8451\n",
      "Epoch 153/200\n",
      "768/768 [==============================] - 0s 117us/sample - loss: 0.3162 - accuracy: 0.8672\n",
      "Epoch 154/200\n",
      "768/768 [==============================] - 0s 126us/sample - loss: 0.3113 - accuracy: 0.8568\n",
      "Epoch 155/200\n",
      "768/768 [==============================] - 0s 108us/sample - loss: 0.3184 - accuracy: 0.8633\n",
      "Epoch 156/200\n",
      "768/768 [==============================] - 0s 109us/sample - loss: 0.2958 - accuracy: 0.8620\n",
      "Epoch 157/200\n",
      "768/768 [==============================] - 0s 116us/sample - loss: 0.2743 - accuracy: 0.8698\n",
      "Epoch 158/200\n",
      "768/768 [==============================] - 0s 118us/sample - loss: 0.2870 - accuracy: 0.8529\n",
      "Epoch 159/200\n",
      "768/768 [==============================] - 0s 117us/sample - loss: 0.2822 - accuracy: 0.8685\n",
      "Epoch 160/200\n",
      "768/768 [==============================] - ETA: 0s - loss: 0.2359 - accuracy: 0.90 - 0s 127us/sample - loss: 0.2774 - accuracy: 0.8776\n",
      "Epoch 161/200\n",
      "768/768 [==============================] - 0s 121us/sample - loss: 0.2970 - accuracy: 0.8685\n",
      "Epoch 162/200\n",
      "768/768 [==============================] - ETA: 0s - loss: 0.2660 - accuracy: 0.89 - 0s 121us/sample - loss: 0.2732 - accuracy: 0.8854\n",
      "Epoch 163/200\n",
      "768/768 [==============================] - 0s 122us/sample - loss: 0.2712 - accuracy: 0.8932\n",
      "Epoch 164/200\n",
      "768/768 [==============================] - 0s 117us/sample - loss: 0.2812 - accuracy: 0.8659\n",
      "Epoch 165/200\n",
      "768/768 [==============================] - 0s 117us/sample - loss: 0.2501 - accuracy: 0.8906\n",
      "Epoch 166/200\n",
      "768/768 [==============================] - 0s 114us/sample - loss: 0.2850 - accuracy: 0.8724\n",
      "Epoch 167/200\n",
      "768/768 [==============================] - 0s 114us/sample - loss: 0.3106 - accuracy: 0.8620\n",
      "Epoch 168/200\n",
      "768/768 [==============================] - 0s 121us/sample - loss: 0.2621 - accuracy: 0.8867\n",
      "Epoch 169/200\n",
      "768/768 [==============================] - 0s 149us/sample - loss: 0.2659 - accuracy: 0.8776\n",
      "Epoch 170/200\n",
      "768/768 [==============================] - 0s 114us/sample - loss: 0.2603 - accuracy: 0.8854\n",
      "Epoch 171/200\n",
      "768/768 [==============================] - 0s 117us/sample - loss: 0.2664 - accuracy: 0.8763\n",
      "Epoch 172/200\n",
      "768/768 [==============================] - 0s 127us/sample - loss: 0.2865 - accuracy: 0.8672 - loss: 0.2521 - accuracy: 0.88\n",
      "Epoch 173/200\n",
      "768/768 [==============================] - 0s 118us/sample - loss: 0.2480 - accuracy: 0.8932\n",
      "Epoch 174/200\n",
      "768/768 [==============================] - 0s 178us/sample - loss: 0.2412 - accuracy: 0.8919\n",
      "Epoch 175/200\n",
      "768/768 [==============================] - 0s 192us/sample - loss: 0.2442 - accuracy: 0.8893\n",
      "Epoch 176/200\n",
      "768/768 [==============================] - 0s 126us/sample - loss: 0.2708 - accuracy: 0.8802\n",
      "Epoch 177/200\n",
      "768/768 [==============================] - 0s 106us/sample - loss: 0.2513 - accuracy: 0.8958\n",
      "Epoch 178/200\n",
      "768/768 [==============================] - 0s 118us/sample - loss: 0.2412 - accuracy: 0.9010\n",
      "Epoch 179/200\n",
      "768/768 [==============================] - 0s 106us/sample - loss: 0.2292 - accuracy: 0.9036\n",
      "Epoch 180/200\n",
      "768/768 [==============================] - 0s 114us/sample - loss: 0.2298 - accuracy: 0.8945\n",
      "Epoch 181/200\n",
      "768/768 [==============================] - 0s 114us/sample - loss: 0.2393 - accuracy: 0.8958\n",
      "Epoch 182/200\n",
      "768/768 [==============================] - 0s 112us/sample - loss: 0.2426 - accuracy: 0.8971\n",
      "Epoch 183/200\n",
      "768/768 [==============================] - 0s 114us/sample - loss: 0.2533 - accuracy: 0.8932\n",
      "Epoch 184/200\n",
      "768/768 [==============================] - 0s 108us/sample - loss: 0.2627 - accuracy: 0.8880\n",
      "Epoch 185/200\n",
      "768/768 [==============================] - 0s 110us/sample - loss: 0.2797 - accuracy: 0.8698\n",
      "Epoch 186/200\n",
      "768/768 [==============================] - 0s 110us/sample - loss: 0.2397 - accuracy: 0.8984\n",
      "Epoch 187/200\n",
      "768/768 [==============================] - 0s 110us/sample - loss: 0.2376 - accuracy: 0.8971\n",
      "Epoch 188/200\n",
      "768/768 [==============================] - 0s 111us/sample - loss: 0.2406 - accuracy: 0.8971\n",
      "Epoch 189/200\n",
      "768/768 [==============================] - 0s 107us/sample - loss: 0.2641 - accuracy: 0.8711\n",
      "Epoch 190/200\n",
      "768/768 [==============================] - 0s 108us/sample - loss: 0.2437 - accuracy: 0.8906\n",
      "Epoch 191/200\n",
      "768/768 [==============================] - 0s 104us/sample - loss: 0.2233 - accuracy: 0.8997\n",
      "Epoch 192/200\n",
      "768/768 [==============================] - 0s 100us/sample - loss: 0.2234 - accuracy: 0.8958\n",
      "Epoch 193/200\n",
      "768/768 [==============================] - 0s 108us/sample - loss: 0.2216 - accuracy: 0.8932\n",
      "Epoch 194/200\n",
      "768/768 [==============================] - 0s 149us/sample - loss: 0.2118 - accuracy: 0.9023\n",
      "Epoch 195/200\n",
      "768/768 [==============================] - 0s 129us/sample - loss: 0.2324 - accuracy: 0.8932\n",
      "Epoch 196/200\n",
      "768/768 [==============================] - 0s 122us/sample - loss: 0.2330 - accuracy: 0.8971\n",
      "Epoch 197/200\n",
      "768/768 [==============================] - 0s 205us/sample - loss: 0.2244 - accuracy: 0.8984\n",
      "Epoch 198/200\n",
      "768/768 [==============================] - 0s 156us/sample - loss: 0.2440 - accuracy: 0.8815\n",
      "Epoch 199/200\n",
      "768/768 [==============================] - 0s 168us/sample - loss: 0.2373 - accuracy: 0.8919\n",
      "Epoch 200/200\n",
      "768/768 [==============================] - 0s 319us/sample - loss: 0.2561 - accuracy: 0.8945 - loss: 0.2051 - accuracy\n"
     ]
    },
    {
     "data": {
      "text/plain": [
       "<tensorflow.python.keras.callbacks.History at 0x27f714d2f28>"
      ]
     },
     "execution_count": 26,
     "metadata": {},
     "output_type": "execute_result"
    }
   ],
   "source": [
    "import tensorflow as tf\n",
    "from tensorflow.keras import models, layers\n",
    "model = models.Sequential()\n",
    "model.add(layers.Dense(150,input_dim=8, activation = 'relu'))\n",
    "model.add(layers.Dense(100, activation = 'relu'))\n",
    "model.add(layers.Dense(50, activation = 'relu'))\n",
    "model.add(layers.Dense(1, activation = 'sigmoid'))\n",
    "model.compile(loss='binary_crossentropy', optimizer = 'adam', metrics=['accuracy'])\n",
    "model.fit(X,y, epochs=200, batch_size=10)"
   ]
  },
  {
   "cell_type": "code",
   "execution_count": 27,
   "metadata": {},
   "outputs": [
    {
     "name": "stdout",
     "output_type": "stream",
     "text": [
      "WARNING:tensorflow:Falling back from v2 loop because of error: Failed to find data adapter that can handle input: <class 'pandas.core.frame.DataFrame'>, <class 'NoneType'>\n"
     ]
    }
   ],
   "source": [
    "pred=model.predict_classes(X)"
   ]
  },
  {
   "cell_type": "code",
   "execution_count": 28,
   "metadata": {},
   "outputs": [
    {
     "name": "stdout",
     "output_type": "stream",
     "text": [
      "              precision    recall  f1-score   support\n",
      "\n",
      "           0       0.94      0.93      0.94       500\n",
      "           1       0.88      0.89      0.88       268\n",
      "\n",
      "    accuracy                           0.92       768\n",
      "   macro avg       0.91      0.91      0.91       768\n",
      "weighted avg       0.92      0.92      0.92       768\n",
      "\n"
     ]
    }
   ],
   "source": [
    "from sklearn.metrics import classification_report, confusion_matrix\n",
    "(confusion_matrix(y,pred))\n",
    "print(classification_report(y,pred))"
   ]
  },
  {
   "cell_type": "code",
   "execution_count": 29,
   "metadata": {},
   "outputs": [
    {
     "name": "stdout",
     "output_type": "stream",
     "text": [
      "WARNING:tensorflow:Falling back from v2 loop because of error: Failed to find data adapter that can handle input: <class 'pandas.core.frame.DataFrame'>, <class 'NoneType'>\n"
     ]
    },
    {
     "data": {
      "text/plain": [
       "[<matplotlib.lines.Line2D at 0x27f7132d668>]"
      ]
     },
     "execution_count": 29,
     "metadata": {},
     "output_type": "execute_result"
    },
    {
     "data": {
      "image/png": "[encoded data removed]",
      "text/plain": [
       "<Figure size 432x288 with 1 Axes>"
      ]
     },
     "metadata": {
      "needs_background": "light"
     },
     "output_type": "display_data"
    }
   ],
   "source": [
    "from sklearn import metrics\n",
    "prob = model.predict(X)\n",
    "#Plotting the RoC Curve\n",
    "fpr,tpr,thre= metrics.roc_curve(y, prob)\n",
    "plt.plot(fpr, tpr)\n"
   ]
  },
  {
   "cell_type": "markdown",
   "metadata": {},
   "source": [
    "plot the test precision curve  and accuracy curve for decision thresholds between 0.1 to 1 with a step of 0.1"
   ]
  },
  {
   "cell_type": "code",
   "execution_count": 30,
   "metadata": {},
   "outputs": [
    {
     "name": "stderr",
     "output_type": "stream",
     "text": [
      "C:\\Users\\Pookie\\Anaconda3\\lib\\site-packages\\sklearn\\metrics\\classification.py:1437: UndefinedMetricWarning: Precision is ill-defined and being set to 0.0 due to no predicted samples.\n",
      "  'precision', 'predicted', average, warn_for)\n"
     ]
    },
    {
     "data": {
      "text/plain": [
       "<matplotlib.legend.Legend at 0x27f725ac2b0>"
      ]
     },
     "execution_count": 30,
     "metadata": {},
     "output_type": "execute_result"
    },
    {
     "data": {
      "image/png": "[encoded data removed]",
      "text/plain": [
       "<Figure size 432x288 with 1 Axes>"
      ]
     },
     "metadata": {
      "needs_background": "light"
     },
     "output_type": "display_data"
    }
   ],
   "source": [
    "from sklearn import metrics\n",
    "threshold= np.linspace(0.1,1,10)\n",
    "precision_list= []\n",
    "accuracy_list=[]\n",
    "recall_list=[]\n",
    "for i in threshold:\n",
    "    my_pred = prob[:,]>=i\n",
    "    precision_list.append(metrics.precision_score(y, my_pred))\n",
    "    accuracy_list.append(metrics.accuracy_score(y,my_pred))\n",
    "plt.plot(threshold, precision_list)\n",
    "plt.plot(threshold, accuracy_list, c=\"r\")\n",
    "plt.legend(['Precision','accuracy'],loc='upper left')"
   ]
  },
  {
   "cell_type": "markdown",
   "metadata": {},
   "source": [
    "## Random Forest\n",
    "Build a random forest with `n_estimators=100`. What is the accuracy, precision and recall and F1 score for the training and the test data? Plot the ROC curve? Is the model overfitting"
   ]
  },
  {
   "cell_type": "code",
   "execution_count": 31,
   "metadata": {},
   "outputs": [
    {
     "data": {
      "text/plain": [
       "RandomForestClassifier(bootstrap=True, class_weight=None, criterion='gini',\n",
       "                       max_depth=None, max_features='auto', max_leaf_nodes=None,\n",
       "                       min_impurity_decrease=0.0, min_impurity_split=None,\n",
       "                       min_samples_leaf=1, min_samples_split=2,\n",
       "                       min_weight_fraction_leaf=0.0, n_estimators=100,\n",
       "                       n_jobs=None, oob_score=False, random_state=None,\n",
       "                       verbose=0, warm_start=False)"
      ]
     },
     "execution_count": 31,
     "metadata": {},
     "output_type": "execute_result"
    }
   ],
   "source": [
    "from sklearn.ensemble import RandomForestClassifier\n",
    "rfc = RandomForestClassifier(n_estimators=100)\n",
    "rfc.fit(X_train, y_train)"
   ]
  },
  {
   "cell_type": "code",
   "execution_count": 32,
   "metadata": {},
   "outputs": [],
   "source": [
    "rfc_pred = rfc.predict(X_test)"
   ]
  },
  {
   "cell_type": "code",
   "execution_count": 33,
   "metadata": {},
   "outputs": [
    {
     "name": "stdout",
     "output_type": "stream",
     "text": [
      "              precision    recall  f1-score   support\n",
      "\n",
      "           0       0.80      0.81      0.81       151\n",
      "           1       0.64      0.61      0.62        80\n",
      "\n",
      "    accuracy                           0.74       231\n",
      "   macro avg       0.72      0.71      0.72       231\n",
      "weighted avg       0.74      0.74      0.74       231\n",
      "\n"
     ]
    }
   ],
   "source": [
    "from sklearn.metrics import classification_report, confusion_matrix\n",
    "(confusion_matrix(y_test,rfc_pred))\n",
    "print(classification_report(y_test,rfc_pred))"
   ]
  },
  {
   "cell_type": "markdown",
   "metadata": {},
   "source": [
    "build another model to limit the overfitting problem by using `n_estimators=1000, max_depth=8` as your random forest parameters. Is the overfitting better now?"
   ]
  },
  {
   "cell_type": "code",
   "execution_count": 34,
   "metadata": {},
   "outputs": [
    {
     "data": {
      "text/plain": [
       "RandomForestClassifier(bootstrap=True, class_weight=None, criterion='gini',\n",
       "                       max_depth=8, max_features='auto', max_leaf_nodes=None,\n",
       "                       min_impurity_decrease=0.0, min_impurity_split=None,\n",
       "                       min_samples_leaf=1, min_samples_split=2,\n",
       "                       min_weight_fraction_leaf=0.0, n_estimators=1000,\n",
       "                       n_jobs=None, oob_score=False, random_state=None,\n",
       "                       verbose=0, warm_start=False)"
      ]
     },
     "execution_count": 34,
     "metadata": {},
     "output_type": "execute_result"
    }
   ],
   "source": [
    "from sklearn.ensemble import RandomForestClassifier\n",
    "rfc = RandomForestClassifier(n_estimators=1000, max_depth=8)\n",
    "rfc.fit(X_train, y_train)"
   ]
  },
  {
   "cell_type": "code",
   "execution_count": 35,
   "metadata": {},
   "outputs": [
    {
     "data": {
      "text/plain": [
       "array([[0.53391572, 0.46608428],\n",
       "       [0.82060683, 0.17939317],\n",
       "       [0.87056288, 0.12943712],\n",
       "       [0.80734044, 0.19265956],\n",
       "       [0.54001914, 0.45998086],\n",
       "       [0.44632311, 0.55367689],\n",
       "       [0.99697246, 0.00302754],\n",
       "       [0.40034698, 0.59965302],\n",
       "       [0.38832787, 0.61167213],\n",
       "       [0.37936291, 0.62063709],\n",
       "       [0.7407776 , 0.2592224 ],\n",
       "       [0.20074309, 0.79925691],\n",
       "       [0.65902426, 0.34097574],\n",
       "       [0.63065013, 0.36934987],\n",
       "       [0.9813112 , 0.0186888 ],\n",
       "       [0.60222202, 0.39777798],\n",
       "       [0.89165815, 0.10834185],\n",
       "       [0.94141749, 0.05858251],\n",
       "       [0.34167349, 0.65832651],\n",
       "       [0.49712784, 0.50287216],\n",
       "       [0.65268424, 0.34731576],\n",
       "       [0.90804209, 0.09195791],\n",
       "       [0.64992074, 0.35007926],\n",
       "       [0.9771683 , 0.0228317 ],\n",
       "       [0.40508592, 0.59491408],\n",
       "       [0.12403099, 0.87596901],\n",
       "       [0.91909374, 0.08090626],\n",
       "       [0.97742793, 0.02257207],\n",
       "       [0.83485719, 0.16514281],\n",
       "       [0.79844854, 0.20155146],\n",
       "       [0.24176265, 0.75823735],\n",
       "       [0.31563594, 0.68436406],\n",
       "       [0.25244096, 0.74755904],\n",
       "       [0.19763661, 0.80236339],\n",
       "       [0.4676655 , 0.5323345 ],\n",
       "       [0.24700021, 0.75299979],\n",
       "       [0.17165652, 0.82834348],\n",
       "       [0.58163739, 0.41836261],\n",
       "       [0.81534206, 0.18465794],\n",
       "       [0.36240421, 0.63759579],\n",
       "       [0.93301453, 0.06698547],\n",
       "       [0.65444818, 0.34555182],\n",
       "       [0.46920124, 0.53079876],\n",
       "       [0.54623976, 0.45376024],\n",
       "       [0.95315603, 0.04684397],\n",
       "       [0.31742708, 0.68257292],\n",
       "       [0.48064833, 0.51935167],\n",
       "       [0.83041816, 0.16958184],\n",
       "       [0.84032159, 0.15967841],\n",
       "       [0.15647667, 0.84352333],\n",
       "       [0.98715797, 0.01284203],\n",
       "       [0.22453264, 0.77546736],\n",
       "       [0.25138421, 0.74861579],\n",
       "       [0.74592459, 0.25407541],\n",
       "       [0.89444295, 0.10555705],\n",
       "       [0.95500738, 0.04499262],\n",
       "       [0.34335111, 0.65664889],\n",
       "       [0.97728479, 0.02271521],\n",
       "       [0.80217308, 0.19782692],\n",
       "       [0.18507874, 0.81492126],\n",
       "       [0.36047008, 0.63952992],\n",
       "       [0.77583903, 0.22416097],\n",
       "       [0.67202099, 0.32797901],\n",
       "       [0.60385813, 0.39614187],\n",
       "       [0.89996881, 0.10003119],\n",
       "       [0.31923328, 0.68076672],\n",
       "       [0.98114507, 0.01885493],\n",
       "       [0.43280909, 0.56719091],\n",
       "       [0.93793075, 0.06206925],\n",
       "       [0.22540393, 0.77459607],\n",
       "       [0.27582451, 0.72417549],\n",
       "       [0.81545787, 0.18454213],\n",
       "       [0.87512096, 0.12487904],\n",
       "       [0.93006085, 0.06993915],\n",
       "       [0.85922552, 0.14077448],\n",
       "       [0.59871154, 0.40128846],\n",
       "       [0.77167814, 0.22832186],\n",
       "       [0.87229717, 0.12770283],\n",
       "       [0.827099  , 0.172901  ],\n",
       "       [0.7430143 , 0.2569857 ],\n",
       "       [0.1884308 , 0.8115692 ],\n",
       "       [0.86201075, 0.13798925],\n",
       "       [0.81720185, 0.18279815],\n",
       "       [0.43827413, 0.56172587],\n",
       "       [0.81837054, 0.18162946],\n",
       "       [0.09256299, 0.90743701],\n",
       "       [0.36222167, 0.63777833],\n",
       "       [0.55275939, 0.44724061],\n",
       "       [0.75209672, 0.24790328],\n",
       "       [0.96705095, 0.03294905],\n",
       "       [0.9700904 , 0.0299096 ],\n",
       "       [0.7795885 , 0.2204115 ],\n",
       "       [0.98662883, 0.01337117],\n",
       "       [0.47006812, 0.52993188],\n",
       "       [0.59171434, 0.40828566],\n",
       "       [0.40661852, 0.59338148],\n",
       "       [0.43465844, 0.56534156],\n",
       "       [0.9511421 , 0.0488579 ],\n",
       "       [0.27064063, 0.72935937],\n",
       "       [0.80070403, 0.19929597],\n",
       "       [0.21965606, 0.78034394],\n",
       "       [0.93897639, 0.06102361],\n",
       "       [0.4877844 , 0.5122156 ],\n",
       "       [0.39728357, 0.60271643],\n",
       "       [0.18625339, 0.81374661],\n",
       "       [0.7709914 , 0.2290086 ],\n",
       "       [0.75721619, 0.24278381],\n",
       "       [0.13477121, 0.86522879],\n",
       "       [0.82027682, 0.17972318],\n",
       "       [0.33980993, 0.66019007],\n",
       "       [0.96140564, 0.03859436],\n",
       "       [0.50101487, 0.49898513],\n",
       "       [0.8284659 , 0.1715341 ],\n",
       "       [0.16349249, 0.83650751],\n",
       "       [0.74388987, 0.25611013],\n",
       "       [0.64803694, 0.35196306],\n",
       "       [0.32060977, 0.67939023],\n",
       "       [0.66738877, 0.33261123],\n",
       "       [0.94781492, 0.05218508],\n",
       "       [0.50168726, 0.49831274],\n",
       "       [0.98031028, 0.01968972],\n",
       "       [0.83133851, 0.16866149],\n",
       "       [0.62084198, 0.37915802],\n",
       "       [0.93607235, 0.06392765],\n",
       "       [0.72449104, 0.27550896],\n",
       "       [0.49647501, 0.50352499],\n",
       "       [0.77988846, 0.22011154],\n",
       "       [0.25338892, 0.74661108],\n",
       "       [0.27899162, 0.72100838],\n",
       "       [0.35832893, 0.64167107],\n",
       "       [0.34643738, 0.65356262],\n",
       "       [0.29252706, 0.70747294],\n",
       "       [0.95230928, 0.04769072],\n",
       "       [0.59753563, 0.40246437],\n",
       "       [0.26504756, 0.73495244],\n",
       "       [0.63058981, 0.36941019],\n",
       "       [0.74712069, 0.25287931],\n",
       "       [0.33605221, 0.66394779],\n",
       "       [0.24077426, 0.75922574],\n",
       "       [0.9813661 , 0.0186339 ],\n",
       "       [0.97283544, 0.02716456],\n",
       "       [0.98944275, 0.01055725],\n",
       "       [0.74684951, 0.25315049],\n",
       "       [0.49185766, 0.50814234],\n",
       "       [0.88345313, 0.11654687],\n",
       "       [0.59949513, 0.40050487],\n",
       "       [0.71580608, 0.28419392],\n",
       "       [0.98569591, 0.01430409],\n",
       "       [0.67201457, 0.32798543],\n",
       "       [0.18939505, 0.81060495],\n",
       "       [0.86463255, 0.13536745],\n",
       "       [0.64168404, 0.35831596],\n",
       "       [0.58122172, 0.41877828],\n",
       "       [0.62784561, 0.37215439],\n",
       "       [0.98012263, 0.01987737],\n",
       "       [0.49159838, 0.50840162],\n",
       "       [0.76481543, 0.23518457],\n",
       "       [0.50278957, 0.49721043],\n",
       "       [0.44202338, 0.55797662],\n",
       "       [0.88019505, 0.11980495],\n",
       "       [0.60057262, 0.39942738],\n",
       "       [0.35649065, 0.64350935],\n",
       "       [0.75829304, 0.24170696],\n",
       "       [0.98944592, 0.01055408],\n",
       "       [0.87104564, 0.12895436],\n",
       "       [0.17425103, 0.82574897],\n",
       "       [0.97600222, 0.02399778],\n",
       "       [0.68146889, 0.31853111],\n",
       "       [0.20168757, 0.79831243],\n",
       "       [0.37712616, 0.62287384],\n",
       "       [0.37137408, 0.62862592],\n",
       "       [0.91390535, 0.08609465],\n",
       "       [0.45240959, 0.54759041],\n",
       "       [0.48518009, 0.51481991],\n",
       "       [0.25310279, 0.74689721],\n",
       "       [0.89322579, 0.10677421],\n",
       "       [0.57185424, 0.42814576],\n",
       "       [0.50184837, 0.49815163],\n",
       "       [0.52732931, 0.47267069],\n",
       "       [0.42449377, 0.57550623],\n",
       "       [0.67483499, 0.32516501],\n",
       "       [0.57993528, 0.42006472],\n",
       "       [0.59069927, 0.40930073],\n",
       "       [0.30408008, 0.69591992],\n",
       "       [0.31877419, 0.68122581],\n",
       "       [0.96621395, 0.03378605],\n",
       "       [0.93854216, 0.06145784],\n",
       "       [0.91604827, 0.08395173],\n",
       "       [0.46300691, 0.53699309],\n",
       "       [0.43522074, 0.56477926],\n",
       "       [0.93945998, 0.06054002],\n",
       "       [0.92922491, 0.07077509],\n",
       "       [0.28080966, 0.71919034],\n",
       "       [0.77506067, 0.22493933],\n",
       "       [0.75707876, 0.24292124],\n",
       "       [0.92377174, 0.07622826],\n",
       "       [0.96185018, 0.03814982],\n",
       "       [0.97471051, 0.02528949],\n",
       "       [0.87613302, 0.12386698],\n",
       "       [0.1831918 , 0.8168082 ],\n",
       "       [0.68600452, 0.31399548],\n",
       "       [0.94160626, 0.05839374],\n",
       "       [0.63045833, 0.36954167],\n",
       "       [0.80804281, 0.19195719],\n",
       "       [0.30685814, 0.69314186],\n",
       "       [0.93546628, 0.06453372],\n",
       "       [0.92580293, 0.07419707],\n",
       "       [0.70374403, 0.29625597],\n",
       "       [0.19240314, 0.80759686],\n",
       "       [0.66155767, 0.33844233],\n",
       "       [0.58964301, 0.41035699],\n",
       "       [0.81352769, 0.18647231],\n",
       "       [0.91689601, 0.08310399],\n",
       "       [0.87879659, 0.12120341],\n",
       "       [0.36945603, 0.63054397],\n",
       "       [0.94685599, 0.05314401],\n",
       "       [0.32006242, 0.67993758],\n",
       "       [0.40446812, 0.59553188],\n",
       "       [0.56869816, 0.43130184],\n",
       "       [0.15210579, 0.84789421],\n",
       "       [0.37718966, 0.62281034],\n",
       "       [0.68891372, 0.31108628],\n",
       "       [0.97715851, 0.02284149],\n",
       "       [0.86380939, 0.13619061],\n",
       "       [0.91986887, 0.08013113],\n",
       "       [0.28964071, 0.71035929],\n",
       "       [0.74316114, 0.25683886],\n",
       "       [0.75223428, 0.24776572],\n",
       "       [0.67286242, 0.32713758],\n",
       "       [0.70040014, 0.29959986],\n",
       "       [0.78428502, 0.21571498]])"
      ]
     },
     "execution_count": 35,
     "metadata": {},
     "output_type": "execute_result"
    }
   ],
   "source": [
    "rfc_pred = rfc.predict(X_test)\n",
    "rfc_pred\n",
    "rfc_prob=rfc.predict_proba(X_test)\n",
    "rfc_prob\n"
   ]
  },
  {
   "cell_type": "code",
   "execution_count": 36,
   "metadata": {},
   "outputs": [
    {
     "name": "stdout",
     "output_type": "stream",
     "text": [
      "              precision    recall  f1-score   support\n",
      "\n",
      "           0       0.82      0.81      0.81       151\n",
      "           1       0.65      0.66      0.65        80\n",
      "\n",
      "    accuracy                           0.76       231\n",
      "   macro avg       0.73      0.74      0.73       231\n",
      "weighted avg       0.76      0.76      0.76       231\n",
      "\n"
     ]
    }
   ],
   "source": [
    "from sklearn.metrics import classification_report, confusion_matrix\n",
    "(confusion_matrix(y_test,rfc_pred))\n",
    "print(classification_report(y_test,rfc_pred))"
   ]
  },
  {
   "cell_type": "markdown",
   "metadata": {},
   "source": [
    "plot the test precision curve  and accuracy curve for decision thresholds between 0.1 to 1 with a step of 0.1"
   ]
  },
  {
   "cell_type": "code",
   "execution_count": 37,
   "metadata": {},
   "outputs": [
    {
     "name": "stderr",
     "output_type": "stream",
     "text": [
      "C:\\Users\\Pookie\\Anaconda3\\lib\\site-packages\\sklearn\\metrics\\classification.py:1437: UndefinedMetricWarning: Precision is ill-defined and being set to 0.0 due to no predicted samples.\n",
      "  'precision', 'predicted', average, warn_for)\n"
     ]
    },
    {
     "data": {
      "text/plain": [
       "<matplotlib.legend.Legend at 0x27f72749b70>"
      ]
     },
     "execution_count": 37,
     "metadata": {},
     "output_type": "execute_result"
    },
    {
     "data": {
      "image/png": "[encoded data removed]",
      "text/plain": [
       "<Figure size 432x288 with 1 Axes>"
      ]
     },
     "metadata": {
      "needs_background": "light"
     },
     "output_type": "display_data"
    }
   ],
   "source": [
    "threshold= np.linspace(0.1,1,10)\n",
    "precision_list= []\n",
    "accuracy_list=[]\n",
    "for i in threshold:\n",
    "    my_pred = rfc_prob[:,1]>=i\n",
    "    precision_list.append(metrics.precision_score(y_test, my_pred))\n",
    "    accuracy_list.append(metrics.accuracy_score(y_test, my_pred))\n",
    "plt.plot(threshold, precision_list)\n",
    "plt.plot(threshold, accuracy_list, c=\"r\")\n",
    "plt.legend(['Precision','accuracy'],loc='upper left')"
   ]
  },
  {
   "cell_type": "markdown",
   "metadata": {},
   "source": [
    "- Write a few lines about each of the three models and if there is one superior model and why do you think so?"
   ]
  },
  {
   "cell_type": "code",
   "execution_count": 38,
   "metadata": {},
   "outputs": [
    {
     "name": "stdout",
     "output_type": "stream",
     "text": [
      "The DNN is the best model in this scenario, It gave us a better accuracy result of over 90 %.However, the logistic Regression accuracy was higher than Random Forest. I noticed that the Random Forest model improved a little bit when we introduced the max_depth=8 and n_estimation of 1000\n"
     ]
    }
   ],
   "source": [
    "print('The DNN is the best model in this scenario, It gave us a better accuracy result of over 90 %.However, the logistic Regression accuracy was higher than Random Forest. I noticed that the Random Forest model improved a little bit when we introduced the max_depth=8 and n_estimation of 1000')  "
   ]
  },
  {
   "cell_type": "markdown",
   "metadata": {},
   "source": []
  },
  {
   "cell_type": "markdown",
   "metadata": {},
   "source": [
    "![](machine_learning.png)"
   ]
  }
 ],
 "metadata": {
  "kernelspec": {
   "display_name": "Python 3",
   "language": "python",
   "name": "python3"
  },
  "language_info": {
   "codemirror_mode": {
    "name": "ipython",
    "version": 3
   },
   "file_extension": ".py",
   "mimetype": "text/x-python",
   "name": "python",
   "nbconvert_exporter": "python",
   "pygments_lexer": "ipython3",
   "version": "3.7.1"
  }
 },
 "nbformat": 4,
 "nbformat_minor": 2
}
